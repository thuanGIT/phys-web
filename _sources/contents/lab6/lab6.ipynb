{
 "cells": [
  {
   "cell_type": "markdown",
   "id": "interracial-indonesian",
   "metadata": {},
   "source": [
    "# Lab 6\n",
    "\n",
    "Here are some stuffs for lab 6!\n",
    "___"
   ]
  },
  {
   "cell_type": "markdown",
   "id": "spare-wells",
   "metadata": {},
   "source": [
    "## Overview\n",
    "\n",
    "- This lab is probably the easiest and shortest lab so far.\n",
    "\n",
    "- Only error calculations are the majority of the work.\n",
    "\n",
    "- It requires a look-up for mapping resistivity and material type.\n",
    "\n",
    "- Plotting is required for submission."
   ]
  },
  {
   "cell_type": "markdown",
   "id": "coordinated-twelve",
   "metadata": {},
   "source": [
    "## Part 1: Calculations\n",
    "\n",
    "- Let's have a look at the setup first:\n",
    "\n",
    "```{figure} ../../images/lab6/demo_lab6.jpg\n",
    ":scale: 70\n",
    "Exmperimental setup\n",
    "```\n",
    "\n",
    "````{margin}\n",
    "```{hint}\n",
    "The caption gave you everything!\n",
    "```\n",
    "````\n",
    "\n",
    "- Your task is to collect values of $V$, and $I$ from the figures in lab manual.\n",
    "\n",
    "- There are **5 wires of increasing diameter** of the **same material** corresponding to 5 figures. so, make sure to <mark> keep track on the figure label</mark>.\n",
    "\n",
    "- Next, you need to calculate other quantities such as:\n",
    "\n",
    "$$R = \\frac{V}{I}\\ and\\ \\rho = \\frac{RA}{L}\\ (resistivity)$$\n",
    "\n",
    "```{caution}\n",
    "The lab uses $V$ as a replacement for $\\Delta{V}$ as we assume $V_0$ = 0. Instead, $\\Delta{V}$ represents its uncertainty.\n",
    "```\n",
    "\n",
    "### Uncertainty Calculations\n",
    "\n",
    "- Now, the manual says there is a special error measurement for $\\Delta{V}$ and $I$.\n",
    "\n",
    "|Quantity   |Error Specifications              |\n",
    "|:---------:|:-------------------------------:|\n",
    "|$\\Delta{V}$|0.5% of the reading plus 2 digits|\n",
    "|$\\Delta{I}$|1% of the reading plus 3 digits  |\n",
    "\n",
    "```{note}\n",
    "Those '2' and '3' digits are added to the last decimal places. The number of decimal places depends on your references. For the lab, three are enough.\n",
    "```\n",
    "\n",
    "- Let's have an example. You have found $V = 9.321 V$. So its error is:\n",
    "\n",
    "$$\\Delta{V} = (9.321 V) \\times 0.005 + 0.002 = 0.049 V$$\n",
    "\n",
    "- Note that we <mark>add 0.002 because we choose to keep 3 decimal place.</mark>"
   ]
  },
  {
   "cell_type": "markdown",
   "id": "typical-forwarding",
   "metadata": {},
   "source": [
    "## Part 2: Plotting $R$ vs $A^{-1}$\n",
    "\n",
    "- Once you have all data ready, extract the R and x columns for plotting.\n",
    "\n",
    "- Now, you have 2 choices:\n",
    "  - Logger Pro: Same steps as lab 1-5.\n",
    "  - Excel: Use Scatter Plot with column R and x. \n",
    "\n",
    "```{attention}\n",
    "Make sure to add errors in the graph for either method!\n",
    "```\n",
    "\n",
    "- Here is a demo for you to follow:"
   ]
  },
  {
   "cell_type": "code",
   "execution_count": 1,
   "id": "boxed-nancy",
   "metadata": {
    "tags": [
     "hide-input"
    ]
   },
   "outputs": [
    {
     "data": {
      "image/png": "[encoded data removed]",
      "text/plain": [
       "<Figure size 360x360 with 1 Axes>"
      ]
     },
     "metadata": {
      "filenames": {
       "image/png": "/Users/carol/Desktop/projects/labbook/phys_book/phys_book/_build/jupyter_execute/contents/lab6/lab6_4_0.png"
      }
     },
     "output_type": "display_data"
    }
   ],
   "source": [
    "import matplotlib.pyplot as plt\n",
    "import pandas as pd\n",
    "import seaborn as sns\n",
    "\n",
    "# Loading data set \n",
    "df = pd.read_csv(\"../../data/lab6.csv\", delimiter=\",\")\n",
    "\n",
    "# Setting for plot\n",
    "sns.set_theme(\"notebook\", style=\"darkgrid\", font_scale=1.3)\n",
    "sns.set_palette(\"husl\", 5)\n",
    "plot = sns.lmplot(x=\"x\",\n",
    "                  y=\"R\",\n",
    "                  data=df,\n",
    "                  scatter_kws={'s':70, 'edgecolor':'w'})\n",
    "plot.despine()\n",
    "plot.set_axis_labels(r\"$A^{-1} (mm^{-2})$\",r\"$R (\\Omega)$\")\n",
    "plot.ax.set_title(r\"$R\\ vs\\ A^{-1}$\")\n",
    "\n",
    "# Now plot the error bar\n",
    "plot.ax.errorbar(x=df[\"x\"], y=df[\"R\"], xerr=df[\"x error\"], yerr=df[\"R error\"], fmt='none', capsize=4)\n",
    "\n",
    "# Show plot\n",
    "plt.show()"
   ]
  },
  {
   "cell_type": "markdown",
   "id": "unable-glasgow",
   "metadata": {},
   "source": [
    "## Discussion\n",
    "\n",
    "- One question asks you to identify the wire material. This requires **resistivity table** to do the look-up.\n",
    "\n",
    "- Last question asks you to evaluate the relationship between R and $A^{-1}$. Either use $R^2$ (Excel) or **Slope** to justify your claim.\n",
    "\n",
    "```{tip}\n",
    "For resistivity, be careful as some metal is in form of liquid at room temperature!\n",
    "```"
   ]
  },
  {
   "cell_type": "markdown",
   "id": "positive-scenario",
   "metadata": {},
   "source": [
    "## Recordings\n",
    "\n",
    "[Click Here](https://ubc.zoom.us/rec/share/xlvKeFe-5KUgzWthDJtImWno2EsDNj6TFNs_Qoqz3_byYk3TkwoPGqDtgX98n499.L7Xr0gHKDgA6-LKP)\n",
    "\n",
    "\n",
    "\n",
    "```{toctree}\n",
    ":hidden:\n",
    ":titlesonly:\n",
    "\n",
    "\n",
    "Pre Lab 6 <prelab6>\n",
    "```"
   ]
  }
 ],
 "metadata": {
  "jupytext": {
   "text_representation": {
    "extension": ".md",
    "format_name": "myst"
   }
  },
  "kernelspec": {
   "display_name": "Python 3",
   "language": "python",
   "name": "python3"
  },
  "language_info": {
   "codemirror_mode": {
    "name": "ipython",
    "version": 3
   },
   "file_extension": ".py",
   "mimetype": "text/x-python",
   "name": "python",
   "nbconvert_exporter": "python",
   "pygments_lexer": "ipython3",
   "version": "3.8.6"
  },
  "source_map": [
   10,
   17,
   29,
   77,
   93,
   119,
   131
  ]
 },
 "nbformat": 4,
 "nbformat_minor": 5
}