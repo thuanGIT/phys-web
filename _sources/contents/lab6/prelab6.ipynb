{
 "cells": [
  {
   "cell_type": "markdown",
   "id": "palestinian-input",
   "metadata": {},
   "source": [
    "# Pre Lab 6\n",
    "\n",
    "Here are some help for Pre lab 6!\n",
    "___"
   ]
  },
  {
   "cell_type": "markdown",
   "id": "known-empire",
   "metadata": {},
   "source": [
    "## Part 1\n",
    "\n",
    "- This is a simple **Uncertainties Calculations** with Ohm Laws. Use the formula:\n",
    "\n",
    "$$R = \\frac{\\Delta{V}}{I}$$\n",
    "\n",
    "- Use the rules of multiplications to finish the question.\n",
    "\n",
    "```{attention}\n",
    "Read the question carefully for which terms should be present!\n",
    "```"
   ]
  },
  {
   "cell_type": "markdown",
   "id": "lonely-agenda",
   "metadata": {},
   "source": [
    "## Part 2\n",
    "\n",
    "- A **circular cross-section** should give you the sense of the formula for A:\n",
    "\n",
    "$$A = \\pi r^2$$\n",
    "\n",
    "- Now, obtain the formula in term of d (diameter) and the uncertainty for A.\n",
    "\n",
    "```{tip}\n",
    "Use the power rule for this task!\n",
    "```\n",
    "\n",
    "- Next, we need to find uncertainty for the **inverse of A**:\n",
    "\n",
    "$$x = A^{-1}$$\n",
    "\n",
    "- Hopefully, you see it is applied with the rules of multiplication."
   ]
  }
 ],
 "metadata": {
  "jupytext": {
   "text_representation": {
    "extension": ".md",
    "format_name": "myst"
   }
  },
  "kernelspec": {
   "display_name": "Python 3",
   "language": "python",
   "name": "python3"
  },
  "language_info": {
   "codemirror_mode": {
    "name": "ipython",
    "version": 3
   },
   "file_extension": ".py",
   "mimetype": "text/x-python",
   "name": "python",
   "nbconvert_exporter": "python",
   "pygments_lexer": "ipython3",
   "version": "3.8.6"
  },
  "source_map": [
   10,
   17,
   31
  ]
 },
 "nbformat": 4,
 "nbformat_minor": 5
}