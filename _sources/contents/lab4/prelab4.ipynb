{
 "metadata": {
  "language_info": {
   "codemirror_mode": {
    "name": "ipython",
    "version": 3
   },
   "file_extension": ".py",
   "mimetype": "text/x-python",
   "name": "python",
   "nbconvert_exporter": "python",
   "pygments_lexer": "ipython3",
   "version": 3
  },
  "orig_nbformat": 2
 },
 "nbformat": 4,
 "nbformat_minor": 2,
 "cells": [
  {
   "source": [
    "# Pre Lab 4\n",
    "\n",
    "Welcome back everyone! Here is your help on Pre Lab 4\n",
    "___ \n"
   ],
   "cell_type": "markdown",
   "metadata": {}
  },
  {
   "source": [
    "## Part 1\n",
    "\n",
    "````{margin}\n",
    "```{admonition} Hot tip!\n",
    ":class: warning\n",
    "The answer is right in the lab manual\n",
    "```\n",
    "````\n",
    "- Basically, you tell me what Coulomb's Law is.\n",
    "- What I want from you is: **brief description** and **main formula**.\n",
    "\n",
    "```{note}\n",
    "You can go to your note and copy them out! It's a law with a formula similar to that of Newton's attractive force.\n",
    "```\n",
    "\n",
    "````{margin}\n",
    "```{tip}\n",
    "You can try it yourself!\n",
    "```\n",
    "````\n",
    "\n",
    "- Next, this is a conceptual question. There is nothing tricky here!\n",
    "- This is a very common question on **electrostatic induction**.\n",
    "\n"
   ],
   "cell_type": "markdown",
   "metadata": {}
  },
  {
   "source": [
    "## Part 2\n",
    "\n",
    "````{margin}\n",
    "```{tip}\n",
    "Write out the units of each quantity!\n",
    "```\n",
    "````\n",
    "\n",
    "- Until now, everyone should be good with dealing with algebra and units.\n",
    "- This question is just simple calculations by **destroying unwanted units**.\n",
    "\n",
    "\n"
   ],
   "cell_type": "markdown",
   "metadata": {}
  }
 ]
}