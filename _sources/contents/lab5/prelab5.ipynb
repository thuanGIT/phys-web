{
 "cells": [
  {
   "cell_type": "markdown",
   "id": "popular-hometown",
   "metadata": {},
   "source": [
    "# Pre Lab 5\n",
    "\n",
    "Here are some help for pre lab 5\n",
    "___"
   ]
  },
  {
   "cell_type": "markdown",
   "id": "least-gates",
   "metadata": {},
   "source": [
    "## Part 1\n",
    "\n",
    "- In terms of the potential, the component of the electric field in the s-direction is $E_{s} = -\\frac{\\Delta{V}}{\\Delta{s}}$ ($\\Delta{V}$ is the potential difference between the two points, $\\Delta{s}$ is the small distance between to points i and f. In the limit $\\Delta{s}$→0:\n",
    "\n",
    "$$E_{s} = -\\frac{dV}{ds}$$\n",
    "\n",
    "- The formula is derived as such:\n",
    "\n",
    "```{figure} ../../images/lab5/concept_lab5.jpg\n",
    ":scale: 40%\n",
    "Relationship between electric potential and eletric field\n",
    "```\n",
    "\n",
    "- Question: Why is this important? Answer: **The electric field is the negative of the slope of potential vs distance graph!**\n",
    "\n",
    "- Let's have an example <mark>(<b>bottom-right</b>)</mark>:"
   ]
  },
  {
   "cell_type": "code",
   "execution_count": 1,
   "id": "seventh-utility",
   "metadata": {
    "tags": [
     "hide-input"
    ]
   },
   "outputs": [
    {
     "data": {
      "text/plain": [
       "<matplotlib.axes._subplots.AxesSubplot at 0x7fa4c833a250>"
      ]
     },
     "execution_count": 1,
     "metadata": {},
     "output_type": "execute_result"
    },
    {
     "data": {
      "image/png": "[encoded data removed]",
      "text/plain": [
       "<Figure size 432x288 with 2 Axes>"
      ]
     },
     "metadata": {
      "filenames": {
       "image/png": "/Users/carol/Desktop/projects/labbook/phys_book/phys_book/_build/jupyter_execute/contents/lab5/prelab5_2_1.png"
      },
      "needs_background": "light"
     },
     "output_type": "display_data"
    }
   ],
   "source": [
    "import matplotlib.pyplot as plt\n",
    "import matplotlib\n",
    "import numpy as np\n",
    "\n",
    "matplotlib.pyplot.ion()\n",
    "\n",
    "# Initialize some constant\n",
    "k = 9 * pow(10,9)\n",
    "def find_V(x_array, q=pow(10,-9)): # Default q=1nC\n",
    "    with np.errstate(divide='ignore', invalid='ignore'):\n",
    "        return (k * q)/x_array\n",
    "\n",
    "def find_E(x_array, q=pow(10,-9)): # Default q=1nC\n",
    "    # Basically -(-(k*q)/x^2) but altogether gives +\n",
    "    with np.errstate(divide='ignore', invalid='ignore'):\n",
    "      return (k * q)/pow(x_array,2)\n",
    "\n",
    "# Sample size\n",
    "n = 201\n",
    "x_lim=20\n",
    "# Generate a random dataset\n",
    "sample_x = np.linspace(-x_lim,x_lim,n)\n",
    "#sample_x = np.linspace(-10,10,101)\n",
    "# print(sample) Debugging\n",
    "\n",
    "# Customize figures and plots\n",
    "fig_kw = {'color':'r','linewidth':4.0}\n",
    "fig, ax = plt.subplots(nrows=1,ncols=2) # Create a figure with \n",
    "fig.tight_layout()\n",
    "fig.figsize=(20,20) # 20x20 inches\n",
    "\n",
    "def customize(ax):\n",
    "    ax.spines['right'].set_visible(False)\n",
    "    ax.spines['top'].set_visible(False)\n",
    "    ax.axvline(x=0, color='red',linestyle=\":\")\n",
    "    return ax\n",
    "\n",
    "\n",
    "# Set up for V graph\n",
    "ax[0].plot(sample_x,find_V(sample_x))\n",
    "ax[0].set(title=r\"$V_{x}\\ vs\\ x$\", \n",
    "          ylabel=\"Electric Potential (V)\",\n",
    "          xlabel=\"x(m)\", \n",
    "          label=r\"$V(x)= \\frac{k*q}{x}$\")\n",
    "customize(ax[0])\n",
    "\n",
    "# Set up for E graph\n",
    "ax[1].plot(sample_x, find_E(sample_x))\n",
    "ax[1].set(title=r\"$E_{x}\\ vs\\ x$\", \n",
    "          ylabel=\"Electric Field (V/m)\",\n",
    "          xlabel=\"x(m)\",\n",
    "          label=r\"$E(x)= -\\frac{k*q}{x^2}$\")\n",
    "customize(ax[1])\n",
    "\n",
    "# fig.show()"
   ]
  },
  {
   "cell_type": "markdown",
   "id": "owned-astronomy",
   "metadata": {},
   "source": [
    "```{caution}\n",
    "Use only the portion where x >= 0. Distance cannot be negative right?\n",
    "```"
   ]
  },
  {
   "cell_type": "markdown",
   "id": "fitted-messaging",
   "metadata": {},
   "source": [
    "## Part 2\n",
    "\n",
    "- Our question is:\n",
    "\n",
    "> Explain why a conductor in electrostatic equilibrium should have no electric field parallel to its \n",
    "> surface, nor within its bulk. (Hint: think about the forces on a free to move cha,rged particle\n",
    "\n",
    "- Few things to consider about conductors:\n",
    "  - <mark>Electrostatic means no <b>net</b> movement of charges.</mark>\n",
    "  - <mark>Charges in a conductor are free to move <b>(does not mean they are moving!)</b>.</mark>\n",
    "\n",
    "- Few basic concepts about electric fields:\n",
    "  - Electric field is the distorted space (by a charged source object) that exerts electric force on any charge surrounding charged objects.\n",
    "  - **If there is a force that disturbs equilibrium, acceleration is present, meaning things are moving.**\n",
    "\n",
    "```{tip}\n",
    "Use contradiction to prove this!\n",
    "```\n",
    "\n",
    "- Now, the question should be clear. Answering this will also give you an idea why the electric field is only available at the surface and perpendicular to the surface.\n",
    "\n",
    "- A picture for you:\n",
    "\n",
    "```{figure} ../../images/lab5/conductor.gif\n",
    ":scale: 110\n",
    "Electric field outside a conductor\n",
    "```\n",
    "\n",
    "```{seealso}\n",
    "A conductor is an equipotential surface. That means $\\Delta{V} = 0$ everywhere inside it.\n",
    "```"
   ]
  },
  {
   "cell_type": "markdown",
   "id": "subsequent-lewis",
   "metadata": {},
   "source": [
    "## Part 3\n",
    "\n",
    "- Our question is:\n",
    "\n",
    "> When a steady current I is flowing through a conductor with a non-negligible resistance R, it will be possible to maintain a potential difference $\\Delta{V} = I*R$ between parts of the conductor along the direction of the current. Explain why in this situation there should be an electric fieid in\n",
    "the direction of the current but not in the direction perpendicular to the current. \n",
    "\n",
    "- Now, a few things to consider:\n",
    "  - The above concepts about electric fields.\n",
    "  - With a current inside a conductor, the charges are moving, **driven by an electric field in the same direction**.\n",
    "  - <mark>This field is originated from the potential difference between *upstream* and *downstream* of the source (i.e. battery).</mark>\n",
    "\n",
    "- A picture for you to understand what I am saying:\n",
    "\n",
    "```{figure} ../../images/lab5/current_lab5.png\n",
    ":scale: 50\n",
    "The behind-the-scence of electric current\n",
    "```\n",
    "\n",
    "- Now, those help answer the first part of the question. The seccond needs some imagination:\n",
    "  - <mark>Think of conductor as a metal wire.</mark>\n",
    "  - Now, **an electric field perpendicular to the current** will drive the current a way such that it is **closer to the surface**. Right?\n",
    "  - Now, let's answer these:\n",
    "    - **Can the charge escape the conductor to the environment?**\n",
    "    - **If not, how does it behave?**\n",
    "\n",
    "```{tip}\n",
    "Is there a disturbance to the flow? Anything stuck?\n",
    "```"
   ]
  },
  {
   "cell_type": "markdown",
   "id": "extensive-tracker",
   "metadata": {},
   "source": [
    "## Excel Survey Link\n",
    "\n",
    "<a target=_blank href=https://ubc.ca1.qualtrics.com/jfe/form/SV_dbztRdUBHaxtNBA>Click Here!</a>\n",
    "\n",
    "```{attention}\n",
    "Make sure to do it so we know what to do!\n",
    "```"
   ]
  }
 ],
 "metadata": {
  "jupytext": {
   "text_representation": {
    "extension": ".md",
    "format_name": "myst"
   }
  },
  "kernelspec": {
   "display_name": "Python 3",
   "language": "python",
   "name": "python3"
  },
  "language_info": {
   "codemirror_mode": {
    "name": "ipython",
    "version": 3
   },
   "file_extension": ".py",
   "mimetype": "text/x-python",
   "name": "python",
   "nbconvert_exporter": "python",
   "pygments_lexer": "ipython3",
   "version": "3.8.6"
  },
  "source_map": [
   10,
   17,
   36,
   94,
   100,
   134,
   166
  ]
 },
 "nbformat": 4,
 "nbformat_minor": 5
}