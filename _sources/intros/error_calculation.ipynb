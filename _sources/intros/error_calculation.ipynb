{
 "cells": [
  {
   "cell_type": "markdown",
   "id": "interior-cedar",
   "metadata": {},
   "source": [
    "# Error Calculation\n",
    "\n",
    "Here are some tips for error calculations!\n",
    "\n",
    "___"
   ]
  },
  {
   "cell_type": "markdown",
   "id": "soviet-sierra",
   "metadata": {},
   "source": [
    "## Terminology\n",
    "\n",
    "- **Absolute error $\\delta{A}$**: The error in a quantity A that has the same units as the quantity.\n",
    "\n",
    "- **Relative error $\\frac{\\delta{A}}{A}$**: The error expressed as a fractional or percentage.\n",
    "\n",
    "```{caution}\n",
    "These terms has confused a lot of students. So please be careful!\n",
    "```"
   ]
  },
  {
   "cell_type": "markdown",
   "id": "dominant-services",
   "metadata": {},
   "source": [
    "## Rules with errors\n",
    "\n",
    "```{tabbed} Addition Rule\n",
    "<p style=\"font-size:25px\"><b>Explanation</b></p>\n",
    "\n",
    "The maximum possible error  of  a  sum  or  difference  is  calculated  by  adding  the  absolute  errors  in  the  quantities  to  be added or subtracted.\n",
    "\n",
    "$$\\delta{A+B} = \\delta{A} + \\delta{B}$$\n",
    "```\n",
    "\n",
    "```{tabbed} Product Rule\n",
    "<p style=\"font-size:25px\"><b>Explanation</b></p>\n",
    "\n",
    "The relative maximum possible error of a product or quotient is equal to the sum of the relativeerrors in the quantities being multiplied or divided.\n",
    "\n",
    "$$\n",
    "\\frac{\\delta{(AB)}}{AB} = \\frac{\\delta{(A/B)}}{A/B}= (\\frac{\\delta{A}}{A} + \\frac{\\delta{B}}{B})\n",
    "$$\n",
    "```\n",
    "\n",
    "```{tabbed} Power Rule\n",
    "<p style=\"font-size:25px\"><b>Explanation</b></p>\n",
    "\n",
    "If a number x is raised to some power n then the relative error in the result is $|n|$ times the relative error in x.\n",
    "\n",
    "$$\n",
    "\\frac{\\delta{x^n}}{x^n} = |n| \\frac{\\delta{x}}{x}\n",
    "$$\n",
    "```\n",
    "\n",
    "```{attention}\n",
    "All formula above are to calculate the maximum error associated with the calculations.\n",
    "```"
   ]
  },
  {
   "cell_type": "markdown",
   "id": "ready-annotation",
   "metadata": {},
   "source": [
    "## Tips for applying rules\n",
    "\n",
    "- Here are the helpful steps that I went through all the pains to gather:\n",
    "  - **Step 1**: Identify the operators. This helps find which rules will be applied.\n",
    "  - **Step 2**: Identify large component. For example, in $X = a^3 b^{-2} c$, $a^3$ and $b^{-2}$ are large component while c (only itself) is a small one. In this case, c is also the simplest/smallest component.\n",
    "  - **Step 3**: Apply the rules above with large components as if they are small.\n",
    "  - **Step 4**: Move into each large component. Identify the smaller components and operators inside it.\n",
    "  - **Step 5**: Apply the rules for those smaller components you just identify.\n",
    "  - **Step 6**: Continue until the you see the smallest/simplest components in your calculation."
   ]
  },
  {
   "cell_type": "markdown",
   "id": "junior-subject",
   "metadata": {},
   "source": [
    "## Challenges\n",
    "\n",
    "- Try to solve these formula. Assume a, b, c, d are arbitrary terms with corresponding error $\\delta{a}$, $\\delta{b}$, $\\delta{c}$, $\\delta{d}$.\n",
    "  - Problem 1: $X = abcd$\n",
    "  - Problem 2: $X = a+bcd$\n",
    "  - Problem 3: $X = \\frac{a^3 b^-2}{c} + d$\n",
    "  - Problem 4: $X = \\frac{c+d}{a^2 b^-1} + d$"
   ]
  },
  {
   "cell_type": "markdown",
   "id": "hundred-ballet",
   "metadata": {},
   "source": [
    "## Danger of the Internet\n",
    "\n",
    "- When searching on the internet, there are many interpretation of the error calculations. Most of them are nowhere near similar to that of our physics labs.\n",
    "- However, they are not wrong. The only problem is that **those cannot be applied in the context of our physics labs**.\n",
    "\n",
    "```{warning}\n",
    "Always evaluate your findings. For example, check the source website, or contact your Profs/TAs. **Do not ever trust anything on first sight**.\n",
    "```"
   ]
  }
 ],
 "metadata": {
  "jupytext": {
   "text_representation": {
    "extension": ".md",
    "format_name": "myst"
   }
  },
  "kernelspec": {
   "display_name": "Python 3",
   "language": "python",
   "name": "python3"
  },
  "language_info": {
   "codemirror_mode": {
    "name": "ipython",
    "version": 3
   },
   "file_extension": ".py",
   "mimetype": "text/x-python",
   "name": "python",
   "nbconvert_exporter": "python",
   "pygments_lexer": "ipython3",
   "version": "3.8.6"
  },
  "source_map": [
   10,
   18,
   30,
   66,
   78,
   88
  ]
 },
 "nbformat": 4,
 "nbformat_minor": 5
}