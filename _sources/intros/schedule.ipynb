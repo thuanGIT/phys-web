{
 "cells": [
  {
   "cell_type": "markdown",
   "id": "legendary-times",
   "metadata": {},
   "source": [
    "# Schedule\n",
    "\n",
    "Please find your schedule for the lab experiments below. Make sure you keep track on the dates to attend the labs."
   ]
  },
  {
   "cell_type": "markdown",
   "id": "threaded-heath",
   "metadata": {},
   "source": [
    "|Date                    | Lab                                                     |\n",
    "|:----------------------:|:-------------------------------------------------------:|\n",
    "| January 11             | No laboratory experiments this week                     |\n",
    "| January 18             | No laboratory experiments this week                     |\n",
    "| January 25             |  Laboratory 1  Simple harmonic motion                   |\n",
    "| February 1             |  Laboratory 2  Standing waves in one dimension          |\n",
    "| February 8             |  Laboratory 3 Standing sound waves                      |\n",
    "| **February 15**        | **No Lab (Midterm Break)**                              |\n",
    "| February 22            | Laboratory 4  Electrostatics                            |\n",
    "| March 1                |  Laboratory 5  Equipotential and electric field mapping  |\n",
    "| March 8                |  Laboratory 6  Ohms law and Hydraulic Circuits          |\n",
    "| March 15               |  Laboratory 7  Electric and Hydraulic RC Circuits       |\n",
    "| March 22               | Laboratory 8  Magnetic fields                            |"
   ]
  },
  {
   "cell_type": "markdown",
   "id": "hourly-hurricane",
   "metadata": {},
   "source": [
    "```{caution}\n",
    "Each date indicates Mondays of each week. \n",
    "```"
   ]
  },
  {
   "cell_type": "markdown",
   "id": "passive-violence",
   "metadata": {},
   "source": [
    "Below is the complete lab section timetable for PHYS122.\n",
    "\n",
    "```{figure} ../images/timetable.png\n",
    "Timetable\n",
    "```"
   ]
  }
 ],
 "metadata": {
  "jupytext": {
   "text_representation": {
    "extension": ".md",
    "format_name": "myst"
   }
  },
  "kernelspec": {
   "display_name": "Python 3",
   "language": "python",
   "name": "python3"
  },
  "language_info": {
   "codemirror_mode": {
    "name": "ipython",
    "version": 3
   },
   "file_extension": ".py",
   "mimetype": "text/x-python",
   "name": "python",
   "nbconvert_exporter": "python",
   "pygments_lexer": "ipython3",
   "version": "3.8.6"
  },
  "source_map": [
   10,
   16,
   32,
   38
  ]
 },
 "nbformat": 4,
 "nbformat_minor": 5
}