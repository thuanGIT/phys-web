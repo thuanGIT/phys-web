{
 "metadata": {
  "language_info": {
   "codemirror_mode": {
    "name": "ipython",
    "version": 3
   },
   "file_extension": ".py",
   "mimetype": "text/x-python",
   "name": "python",
   "nbconvert_exporter": "python",
   "pygments_lexer": "ipython3",
   "version": 3
  },
  "orig_nbformat": 2
 },
 "nbformat": 4,
 "nbformat_minor": 2,
 "cells": [
  {
   "source": [
    "# Pre lab 8\n",
    "\n",
    "Here are some help for Pre lab 8!\n",
    "___"
   ],
   "cell_type": "markdown",
   "metadata": {}
  },
  {
   "source": [
    "## Part 1\n",
    "\n",
    "````{margin}\n",
    "```{tip}\n",
    "Look back at Lab 6!\n",
    "```\n",
    "````\n",
    "- The magnetic field model is similar **(not the same)** in many aspects to the Electric Field Model.\n",
    "- Now, given a magnet with North and South pole, could you guess what setup it resembles in Electric Field Model?\n",
    "- Then, where do the Magnetic Field lines start? Where do they end?\n",
    "\n",
    "```{caution}\n",
    "There are rules with drawing magnetic field lines that you should take into consideration. E.g. lines do not touch.\n",
    "```\n"
   ],
   "cell_type": "markdown",
   "metadata": {}
  },
  {
   "source": [
    "## Part 2\n",
    "\n",
    "- This is just a restatement of the **Right Hand Rule For Solenoids**.\n",
    "- Don't forget to tell me which finger indicates the direction of **current** and which indicates **magnetic field**.\n",
    "\n",
    "```{tip}\n",
    "If words are not enough for you, please feel free to visualize it with a drawing.\n",
    "```"
   ],
   "cell_type": "markdown",
   "metadata": {}
  },
  {
   "source": [
    "## Part 3\n",
    "\n",
    "- Galvanometer is a device. A device's name ending with **meter** is usually the one to measure a quantity.\n",
    "- The question now is **what galvanometer measures?**\n",
    "\n",
    "```{tip}\n",
    "What is the general name of the device to measure that quantity that you just found out?\n",
    "```"
   ],
   "cell_type": "markdown",
   "metadata": {}
  },
  {
   "source": [
    "## Part 4\n",
    "\n",
    "- Use the right hand rules for this part!\n",
    "- Remember which finger is assigned to which quantities!\n",
    "\n",
    "```{caution}\n",
    "The right hand rule works a little different for moving negative charge!\n",
    "```"
   ],
   "cell_type": "markdown",
   "metadata": {}
  },
  {
   "source": [
    "## Part 5\n",
    "\n",
    "- For this question, you need to look at the dependencies of $B$.\n",
    "- That means you need look at the formula for $B$ and see if any changes of the component terms affect $B$ as described."
   ],
   "cell_type": "markdown",
   "metadata": {}
  },
  {
   "source": [
    "## Part 6\n",
    "\n",
    "- Given 2 important pieces of information:\n",
    "    - Objects are **moving charged particles**.\n",
    "    - Both enter **the same magnetic field** perpendicular to their velocity.\n",
    "\n",
    "- With knowledge of mechanical physics, we know **force** causes acceleration and change in motion.\n",
    "\n",
    "- Why is it important? Two of your objects changes direction in opposite way after entering magnetic field. That means each experienced a force that is opposite in direction to each other.\n",
    "\n",
    "- Now, ask yourself: **Why the force exerted on each object is opposite in direction?**.\n",
    "\n",
    "- Here is a visualization for you:\n",
    "\n",
    "```{figure} ../../images/lab8/part6_prelab8.png\n",
    ":scale: 25\n",
    "```\n",
    "\n",
    "```{tip}\n",
    "Look at the formula for magnetic force on moving charge: $\\vec{F} = q \\vec{v}\\times\\vec{B}$.\n",
    "```"
   ],
   "cell_type": "markdown",
   "metadata": {}
  },
  {
   "source": [
    "## Part 7\n",
    "\n",
    "- Follow the below formula (for solenoid) for this calculation:\n",
    "\n",
    "$$B = \\mu_0 n I$$\n",
    "\n",
    "```{caution}\n",
    "n is the number of turns per unit of length! Read carefully what you are given!\n",
    "```"
   ],
   "cell_type": "markdown",
   "metadata": {}
  }
 ]
}