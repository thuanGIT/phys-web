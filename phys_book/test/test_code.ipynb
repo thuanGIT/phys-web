{
 "metadata": {
  "language_info": {
   "codemirror_mode": {
    "name": "ipython",
    "version": 3
   },
   "file_extension": ".py",
   "mimetype": "text/x-python",
   "name": "python",
   "nbconvert_exporter": "python",
   "pygments_lexer": "ipython3",
   "version": "3.8.8"
  },
  "orig_nbformat": 2,
  "kernelspec": {
   "name": "python388jvsc74a57bd007050cefa82ab7d167dbb8e3c316152c2b5f24d5f5c6550d5e0cf5af181fc1e2",
   "display_name": "Python 3.8.8 64-bit ('data301': conda)"
  }
 },
 "nbformat": 4,
 "nbformat_minor": 2,
 "cells": [
  {
   "cell_type": "code",
   "execution_count": 1,
   "metadata": {},
   "outputs": [
    {
     "output_type": "error",
     "ename": "NameError",
     "evalue": "name 'matplotlib' is not defined",
     "traceback": [
      "\u001b[0;31m---------------------------------------------------------------------------\u001b[0m",
      "\u001b[0;31mNameError\u001b[0m                                 Traceback (most recent call last)",
      "\u001b[0;32m<ipython-input-1-003657010639>\u001b[0m in \u001b[0;36m<module>\u001b[0;34m\u001b[0m\n\u001b[1;32m      2\u001b[0m \u001b[0;32mimport\u001b[0m \u001b[0mnumpy\u001b[0m \u001b[0;32mas\u001b[0m \u001b[0mnp\u001b[0m\u001b[0;34m\u001b[0m\u001b[0;34m\u001b[0m\u001b[0m\n\u001b[1;32m      3\u001b[0m \u001b[0;34m\u001b[0m\u001b[0m\n\u001b[0;32m----> 4\u001b[0;31m \u001b[0mmatplotlib\u001b[0m\u001b[0;34m.\u001b[0m\u001b[0mpyplot\u001b[0m\u001b[0;34m.\u001b[0m\u001b[0mion\u001b[0m\u001b[0;34m(\u001b[0m\u001b[0;34m)\u001b[0m\u001b[0;34m\u001b[0m\u001b[0;34m\u001b[0m\u001b[0m\n\u001b[0m\u001b[1;32m      5\u001b[0m \u001b[0;34m\u001b[0m\u001b[0m\n\u001b[1;32m      6\u001b[0m \u001b[0;31m# Initialize some constant\u001b[0m\u001b[0;34m\u001b[0m\u001b[0;34m\u001b[0m\u001b[0;34m\u001b[0m\u001b[0m\n",
      "\u001b[0;31mNameError\u001b[0m: name 'matplotlib' is not defined"
     ]
    }
   ],
   "source": [
    "import matplotlib.pyplot as plt\n",
    "import matplotlib\n",
    "import numpy as np\n",
    "\n",
    "matplotlib.pyplot.ion()\n",
    "\n",
    "# Initialize some constant\n",
    "k = 9 * pow(10,9)\n",
    "def find_V(x_array, q=pow(10,-9)): # Default q=1nC\n",
    "    with np.errstate(divide='ignore', invalid='ignore'):\n",
    "        return (k * q)/x_array\n",
    "\n",
    "def find_E(x_array, q=pow(10,-9)): # Default q=1nC\n",
    "    # Basically -(-(k*q)/x^2) but altogether gives +\n",
    "    with np.errstate(divide='ignore', invalid='ignore'):\n",
    "        return (k * q)/pow(x_array,2)\n",
    "\n",
    "# Sample size\n",
    "n = 201\n",
    "x_lim=20\n",
    "# Generate a random dataset\n",
    "sample_x = np.linspace(-x_lim,x_lim,n)\n",
    "#sample_x = np.linspace(-10,10,101)\n",
    "# print(sample) Debugging\n",
    "\n",
    "# Customize figures and plots\n",
    "fig_kw = {'color':'r','linewidth':4.0}\n",
    "fig, ax = plt.subplots(nrows=1,ncols=2) # Create a figure with \n",
    "fig.tight_layout()\n",
    "fig.figsize=(20,20) # 20x20 inches\n",
    "\n",
    "def customize(ax):\n",
    "    ax.spines['right'].set_visible(False)\n",
    "    ax.spines['top'].set_visible(False)\n",
    "    ax.axvline(x=0, color='red',linestyle=\":\")\n",
    "    return ax\n",
    "\n",
    "\n",
    "# Set up for V graph\n",
    "ax[0].plot(sample_x,find_V(sample_x))\n",
    "ax[0].set(title=r\"$V_{x}\\ vs\\ x$\", \n",
    "          ylabel=\"Electric Potential (V)\",\n",
    "          xlabel=\"x(m)\", \n",
    "          label=r\"$V(x)= \\frac{k*q}{x}$\")\n",
    "customize(ax[0])\n",
    "\n",
    "# Set up for E graph\n",
    "ax[1].plot(sample_x, find_E(sample_x))\n",
    "ax[1].set(title=r\"$E_{x}\\ vs\\ x$\", \n",
    "          ylabel=\"Electric Field (V/m)\",\n",
    "          xlabel=\"x(m)\",\n",
    "          label=r\"$E(x)= -\\frac{k*q}{x^2}$\")\n",
    "customize(ax[1])\n",
    "\n",
    "plt.show()"
   ]
  },
  {
   "cell_type": "code",
   "execution_count": null,
   "metadata": {},
   "outputs": [],
   "source": []
  }
 ]
}