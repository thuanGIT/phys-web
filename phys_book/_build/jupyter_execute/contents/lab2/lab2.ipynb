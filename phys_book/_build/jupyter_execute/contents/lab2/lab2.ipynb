{
 "cells": [
  {
   "cell_type": "markdown",
   "metadata": {},
   "source": [
    "# Lab 2\n",
    "\n",
    "Here are some stuffs for lab2!\n",
    "\n",
    "____"
   ]
  },
  {
   "cell_type": "markdown",
   "metadata": {},
   "source": [
    "## Overview\n",
    "\n",
    "- This lab might look a little intimidating but it will turn out pretty chilled.\n",
    "\n",
    "- It might take some time!\n",
    "\n",
    "- Relax and you can do it!"
   ]
  },
  {
   "cell_type": "markdown",
   "metadata": {},
   "source": [
    "## Part 1: Tension Calculation\n",
    "- This is straightforward. And I hope everyone now knows how to calculate this. \n",
    "```{tip}\n",
    "Go back to pre lab 2 tension equation(2) for help!\n",
    "```"
   ]
  },
  {
   "cell_type": "markdown",
   "metadata": {},
   "source": [
    "## Part 2: Natural frequency & Pitch\n",
    "\n",
    "- Basically, it is ***resonance*** in oscillations.\n",
    "\n",
    "- One real-life example: When you push your friend on a swing, you notice that if you push them at a certain frequency(tho you count the seconds - motion period), the swing would fly higher!\n",
    "\n",
    "- One more term to be familiar with is ***natural frequency***. Now, you should be able to answer these questions.\n",
    "\n",
    "```{note}\n",
    "Objects (every? maybe) has natural frequency, in which it oscillate without any directly applied forces.\n",
    "```\n",
    "\n",
    "\n"
   ]
  },
  {
   "cell_type": "markdown",
   "metadata": {},
   "source": [
    "## Part 3: Frequency Extraction\n",
    "\n",
    "- Now, there are **6 videos** corresponding to the number of anti-nodes in each case.\n",
    "\n",
    "- All you want to extract is <font color='red'><b>range of frequency that the string has the largest amplitude</b></font>.\n",
    "\n",
    "- <mark>Steps to do that</mark>:\n",
    "    - Step 1: Play the video. Of couse heh!\n",
    "    - Step 2: Notice the first frequency mark that the string oscillates largely.  Record error (~$\\pm{0.2} Hz$).\n",
    "    - Step 3: Notice the frequency mark that the string appears to \"shrink\". Record error (~$\\pm{0.2} Hz$).\n",
    "    - Step 4: Take the average to find the approximated frequency (according to the lab manual). Find the error of averaging.\n",
    "\n",
    "- Enter your data in page 1.\n",
    "\n",
    "```{caution}\n",
    "Listen carefully. Some frequency readings increases while other decreases. Why? Dr. H's choice? No idea.\n",
    "```\n",
    "    \n",
    "\n"
   ]
  },
  {
   "cell_type": "markdown",
   "metadata": {},
   "source": [
    "## Part 4: Calculate $\\lambda$\n",
    "\n",
    "- You have to calculate $\\lambda$ from **# of aninodes** and **length of string**. Sound familiar?\n",
    "\n",
    "- Enter your data to the table in page 1."
   ]
  },
  {
   "cell_type": "markdown",
   "metadata": {},
   "source": [
    "## Part 5: Plot and linear Fit\n",
    "\n",
    "- In this part, you will have to plot your data in Logger Pro.\n",
    "- <mark>Steps to plot your data</mark>:\n",
    "    - Enter values of \"n\" to X column. Enter the values of frequency to Y column. (go back to Pre lab 1)\n",
    "    - Create a new column: \n",
    "        - **Select Data > New Manual Column > Options header**.\n",
    "        - **Check Error bar calculations**.\n",
    "        - **Select Fixed value**.\n",
    "\n",
    "![](../../images/lab2/add_column.png)\n",
    "\n",
    "\n",
    "- Here is an demonstration of what your graph might look like:"
   ]
  },
  {
   "cell_type": "code",
   "execution_count": 2,
   "metadata": {
    "tags": [
     "hide-input"
    ]
   },
   "outputs": [
    {
     "data": {
      "text/html": [
       "\n",
       "<div id=\"altair-viz-b5b9e0ce549a4725b616d47b0dddbc4e\"></div>\n",
       "<script type=\"text/javascript\">\n",
       "  (function(spec, embedOpt){\n",
       "    let outputDiv = document.currentScript.previousElementSibling;\n",
       "    if (outputDiv.id !== \"altair-viz-b5b9e0ce549a4725b616d47b0dddbc4e\") {\n",
       "      outputDiv = document.getElementById(\"altair-viz-b5b9e0ce549a4725b616d47b0dddbc4e\");\n",
       "    }\n",
       "    const paths = {\n",
       "      \"vega\": \"https://cdn.jsdelivr.net/npm//vega@5?noext\",\n",
       "      \"vega-lib\": \"https://cdn.jsdelivr.net/npm//vega-lib?noext\",\n",
       "      \"vega-lite\": \"https://cdn.jsdelivr.net/npm//vega-lite@4.8.1?noext\",\n",
       "      \"vega-embed\": \"https://cdn.jsdelivr.net/npm//vega-embed@6?noext\",\n",
       "    };\n",
       "\n",
       "    function loadScript(lib) {\n",
       "      return new Promise(function(resolve, reject) {\n",
       "        var s = document.createElement('script');\n",
       "        s.src = paths[lib];\n",
       "        s.async = true;\n",
       "        s.onload = () => resolve(paths[lib]);\n",
       "        s.onerror = () => reject(`Error loading script: ${paths[lib]}`);\n",
       "        document.getElementsByTagName(\"head\")[0].appendChild(s);\n",
       "      });\n",
       "    }\n",
       "\n",
       "    function showError(err) {\n",
       "      outputDiv.innerHTML = `<div class=\"error\" style=\"color:red;\">${err}</div>`;\n",
       "      throw err;\n",
       "    }\n",
       "\n",
       "    function displayChart(vegaEmbed) {\n",
       "      vegaEmbed(outputDiv, spec, embedOpt)\n",
       "        .catch(err => showError(`Javascript Error: ${err.message}<br>This usually means there's a typo in your chart specification. See the javascript console for the full traceback.`));\n",
       "    }\n",
       "\n",
       "    if(typeof define === \"function\" && define.amd) {\n",
       "      requirejs.config({paths});\n",
       "      require([\"vega-embed\"], displayChart, err => showError(`Error loading script: ${err.message}`));\n",
       "    } else if (typeof vegaEmbed === \"function\") {\n",
       "      displayChart(vegaEmbed);\n",
       "    } else {\n",
       "      loadScript(\"vega\")\n",
       "        .then(() => loadScript(\"vega-lite\"))\n",
       "        .then(() => loadScript(\"vega-embed\"))\n",
       "        .catch(showError)\n",
       "        .then(() => displayChart(vegaEmbed));\n",
       "    }\n",
       "  })({\"config\": {\"view\": {\"continuousWidth\": 400, \"continuousHeight\": 300}}, \"layer\": [{\"mark\": {\"type\": \"circle\", \"color\": \"teal\", \"opacity\": 0.6, \"size\": 70}, \"encoding\": {\"x\": {\"type\": \"quantitative\", \"field\": \"n\", \"scale\": {\"domain\": [0, 7]}, \"title\": \"Number of antinodes\"}, \"y\": {\"type\": \"quantitative\", \"field\": \"f\", \"scale\": {\"domain\": [0, 100]}, \"title\": \"Frequency (Hz)\"}}, \"height\": 300, \"selection\": {\"selector002\": {\"type\": \"interval\", \"bind\": \"scales\", \"encodings\": [\"x\", \"y\"]}}, \"title\": \"Frequency vs Number of antinodes\", \"width\": 300}, {\"mark\": {\"type\": \"line\", \"color\": \"red\", \"strokeDash\": [3.0, 3.0]}, \"encoding\": {\"x\": {\"type\": \"quantitative\", \"field\": \"n\", \"scale\": {\"domain\": [0, 7]}, \"title\": \"Number of antinodes\"}, \"y\": {\"type\": \"quantitative\", \"field\": \"f\", \"scale\": {\"domain\": [0, 100]}, \"title\": \"Frequency (Hz)\"}}, \"height\": 300, \"title\": \"Frequency vs Number of antinodes\", \"transform\": [{\"on\": \"n\", \"regression\": \"f\", \"method\": \"linear\"}], \"width\": 300}, {\"mark\": {\"type\": \"errorbar\", \"extent\": \"stderr\"}, \"encoding\": {\"x\": {\"type\": \"quantitative\", \"field\": \"x\"}, \"y\": {\"type\": \"quantitative\", \"field\": \"f\", \"scale\": {\"domain\": [0, 100]}, \"title\": \"Frequency (Hz)\"}, \"yError\": {\"field\": \"f_error:Q\"}}, \"height\": 300, \"title\": \"Frequency vs Number of antinodes\", \"width\": 300}], \"data\": {\"name\": \"data-fd53f1295d8c6ea9afcf185e30463b96\"}, \"$schema\": \"https://vega.github.io/schema/vega-lite/v4.8.1.json\", \"datasets\": {\"data-fd53f1295d8c6ea9afcf185e30463b96\": [{\"n\": 1, \"f\": 15.05, \"f_error\": 0.1}, {\"n\": 2, \"f\": 30.2, \"f_error\": 0.3}, {\"n\": 3, \"f\": 45.0, \"f_error\": 0.3}, {\"n\": 4, \"f\": 60.3, \"f_error\": 0.3}, {\"n\": 5, \"f\": 74.4, \"f_error\": 0.3}, {\"n\": 6, \"f\": 87.7, \"f_error\": 0.3}]}}, {\"mode\": \"vega-lite\"});\n",
       "</script>"
      ],
      "text/plain": [
       "alt.LayerChart(...)"
      ]
     },
     "execution_count": 2,
     "metadata": {},
     "output_type": "execute_result"
    }
   ],
   "source": [
    "import altair as alt\n",
    "import pandas as pd\n",
    "import numpy as np\n",
    "\n",
    "data = pd.read_csv('./lab2.csv', delimiter=',').rename(columns={'Number of Anti_nodes': 'n', 'f (Hz)': 'f','f error (Hz)': 'f_error'})\n",
    "\n",
    "chart = alt.Chart(data, height=300, width=300).mark_circle(\n",
    "    color='teal', \n",
    "    size = 70, \n",
    "    opacity=0.6,\n",
    ").encode(\n",
    "    x=alt.X('n:Q', title='Number of antinodes',scale=alt.Scale(domain=(0, 7))),\n",
    "    y=alt.Y('f:Q', title='Frequency (Hz)',scale=alt.Scale(domain=(0, 100)))\n",
    ").properties(\n",
    "    title='Frequency vs Number of antinodes'\n",
    ")\n",
    "\n",
    "# Generate regression line\n",
    "linear_fit=chart.transform_regression('n', 'f', method='linear').mark_line(color=\"red\",strokeDash=np.array([3,3]))\n",
    "\n",
    "# # generate the error bars\n",
    "errorbars = chart.mark_errorbar(extent='stderr').encode(\n",
    "    x=alt.X('x:Q'),\n",
    "    yError=alt.YError(field='f_error:Q')\n",
    ")\n",
    "\n",
    "# Display the chart\n",
    "alt.layer(chart,linear_fit, errorbars).interactive()"
   ]
  },
  {
   "cell_type": "markdown",
   "metadata": {},
   "source": [
    "```{caution}\n",
    "This is just a demo. Your graph should be in Logger Pro, which might look different! But it might give u a sense of what the values should be!\n",
    "```"
   ]
  },
  {
   "cell_type": "markdown",
   "metadata": {},
   "source": [
    "## Part 6: Calculate $\\mu$\n",
    "\n",
    "- Calcute $\\mu$ from the slope of best fit line. Sound familiar?\n",
    "\n",
    "```{tip}\n",
    "Go to pre lab 2 again!\n",
    "```"
   ]
  },
  {
   "cell_type": "markdown",
   "metadata": {},
   "source": [
    "## Part 7: Describe observations\n",
    "\n",
    "- There are **3 videos** to watch and answer related questions in the report sheet.\n",
    "\n",
    "- Basically, the first two include Dr. H striked a strobe light (don't worry about what it is!) with frequency of 30 Hz and 60Hz. The third one is just him touching the string at nodes and antinodes.\n",
    "\n",
    "- What you need to do is <mark>describe how the string behaved in each case</mark>.\n",
    "\n",
    "```{tip}\n",
    "Listen carefully! Dr. H gave away the explanation as he did the experiment!\n",
    "```"
   ]
  },
  {
   "cell_type": "markdown",
   "metadata": {},
   "source": [
    "## Data Collection and Analysis\n",
    "\n",
    "-  Complete table for page 1 (Part 1,3,5,6). The below excel sheet will help you!\n",
    "- [Download Excel Template](https://docs.google.com/spreadsheets/d/e/2PACX-1vRAQbU1WT9LTW74JDTUguWd6Vcxvokxwkpgg5uOfV9XhA0Z3NokKYqnrwWIyuTdEVlFbwMzPE9xcfkF/pub?output=xlsx)\n",
    "\n"
   ]
  },
  {
   "cell_type": "markdown",
   "metadata": {},
   "source": [
    "## Uncertainties Calculation\n",
    "\n",
    "- You have to show me how you calculate the uncertainties in Part 1 via **an example with actuall values**.\n",
    "\n",
    "- **I would recommend doing it without Excel Sheet for practice!**"
   ]
  },
  {
   "cell_type": "markdown",
   "metadata": {},
   "source": [
    "## Discussion Question\n",
    "\n",
    "- Basically, you need to explain: At the point in contact of the vibrator (which was vibrating/moving), why is that point consider a node?\n",
    "\n",
    "- Here is a illustration for you:\n",
    "\n",
    "![](../../images/lab2/discussion_lab2.jpg)\n",
    "\n",
    "- One more thing he asks is how you would reduce such error about that assumptions.\n",
    "\n",
    "```{tip}\n",
    "Just use common sense!\n",
    "```\n",
    "\n",
    "\n"
   ]
  },
  {
   "cell_type": "markdown",
   "metadata": {},
   "source": [
    "## Recordings\n",
    "\n",
    "- Lab Procedure. [Click Here](https://ubc.zoom.us/rec/share/KxPjPEo_hgUsVKjzZz9SWcQvwHCNEHhe7MPT7S-M7yBnZ5ZsD433fsmaARgTKBS2.TUJqnxWHEjOx9LmC)\n",
    "\n",
    "\n",
    "\n"
   ]
  },
  {
   "cell_type": "markdown",
   "metadata": {},
   "source": []
  },
  {
   "cell_type": "markdown",
   "id": "damaged-representation",
   "metadata": {},
   "source": [
    "\n",
    "```{toctree}\n",
    ":hidden:\n",
    ":titlesonly:\n",
    "\n",
    "\n",
    "Pre Lab 2 <pre_lab2>\n",
    "```\n"
   ]
  }
 ],
 "metadata": {
  "kernelspec": {
   "display_name": "Python 3.8.6 64-bit ('phys-web': conda)",
   "metadata": {
    "interpreter": {
     "hash": "be47870efd714ff30f266d670a7a9c976de1e1237e1553a6afdeab2801221655"
    }
   },
   "name": "python3"
  },
  "language_info": {
   "codemirror_mode": {
    "name": "ipython",
    "version": 3
   },
   "file_extension": ".py",
   "mimetype": "text/x-python",
   "name": "python",
   "nbconvert_exporter": "python",
   "pygments_lexer": "ipython3",
   "version": "3.8.6-final"
  }
 },
 "nbformat": 4,
 "nbformat_minor": 4
}