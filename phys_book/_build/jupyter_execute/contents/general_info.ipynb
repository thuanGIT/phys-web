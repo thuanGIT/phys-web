{
 "cells": [
  {
   "cell_type": "markdown",
   "metadata": {},
   "source": [
    "# TA Information\n",
    "\n",
    "Let's get to know your TA! \n",
    "___"
   ]
  },
  {
   "cell_type": "markdown",
   "metadata": {},
   "source": [
    "## About me\n",
    "\n",
    "My name is Thuan(Jamie Vo). I am currently in second year, majoring in Computer Science (nothing to do with Physics). Though my knowledge and experience in this field cannot be compared to other TAs, I was in your situation last year and fully understood your hate (maybe too much) for physics. So, I am here to help you get over this \"evil\" Physics thingy. Really excited for a great semester with you all! \n",
    "\n",
    "## Lab Zoom meeting\n",
    "\n",
    "- Here is the link to our regular lab meeting. [Click Here](https://ubc.zoom.us/j/5425654097?pwd=ZjdRY3Yzcy9tYVgzaVJZYW84U0E4QT09)\n",
    "\n",
    "- Alternatively you can join by ID and password:\n",
    "\n",
    "    - Meeting ID: 542 565 4097\n",
    "\n",
    "    - Passcode: **(Given on our first day)**  \n",
    "\n",
    "\n",
    "## Email & Office Hours\n",
    "\n",
    "- Email: <mark>thuan.vo@ubc.ca</mark>\n",
    "- Discord Channel (via Cinnamon or me): **PHYS122LAB**. \n",
    "    - If you have not joined, [Click Here](https://discord.gg/6auaEfgzwU)\n",
    "- Office Hours: \n",
    "\n",
    "| Day | Time                   |\n",
    "|:--------------:|:------------------------:|\n",
    "| Tuesday            | 10AM-11AM PST  |\n",
    "| Thursday            |  10AM-11AM PST |\n",
    "\n",
    "```{note}\n",
    "Office Hours are run at the same Zoom link for lab. If you see me offline at that time, probably my wifi is down or my computer just crashes. So email me instead!\n",
    "\n",
    "```\n"
   ]
  },
  {
   "cell_type": "code",
   "execution_count": null,
   "metadata": {},
   "outputs": [],
   "source": []
  }
 ],
 "metadata": {
  "kernelspec": {
   "display_name": "Python 3",
   "language": "python",
   "name": "python3"
  },
  "language_info": {
   "codemirror_mode": {
    "name": "ipython",
    "version": 3
   },
   "file_extension": ".py",
   "mimetype": "text/x-python",
   "name": "python",
   "nbconvert_exporter": "python",
   "pygments_lexer": "ipython3",
   "version": "3.8.6"
  }
 },
 "nbformat": 4,
 "nbformat_minor": 4
}