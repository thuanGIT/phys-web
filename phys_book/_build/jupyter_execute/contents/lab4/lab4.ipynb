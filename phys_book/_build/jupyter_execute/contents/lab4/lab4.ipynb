{
 "cells": [
  {
   "cell_type": "markdown",
   "metadata": {},
   "source": [
    "# Lab 4\n",
    "\n",
    "Here are some help for lab 4.\n",
    "___\n",
    "\n"
   ]
  },
  {
   "cell_type": "markdown",
   "metadata": {},
   "source": [
    "## Overview\n",
    "\n",
    "- I think it seems like a lot of work but no worries its super quick!\n",
    "\n",
    "- You will need some tapes and Logger Pro to finish the lab."
   ]
  },
  {
   "cell_type": "markdown",
   "metadata": {},
   "source": [
    "## Part 1: Attraction and repulsion of charged and neutral objects\n",
    "\n",
    "- Part 1 requires you with some equipment:\n",
    "    - Tape (<mark>It does not have to be Scotch</mark>).\n",
    "    - Smartphone/Camera (just for taking picture).\n",
    "    - Youtube videos (<font color='red'><b>super helpful!</b></font>).\n",
    "\n",
    "### Setup Visualization\n",
    "\n",
    "- Before we go any further, it is helpful to have a picture of the experiment setup.\n",
    "\n",
    "```{figure} ../../images/lab4/setup_part1_lab4.jpg\n",
    "```\n",
    "\n",
    "- Note that you will need to use **7 pieces** of tape in total.\n",
    "````{margin}\n",
    "```{tip}\n",
    "Watch the video first before you do it! \n",
    "```\n",
    "````\n",
    "\n",
    "### Setup instruction\n",
    "\n",
    "- Now, let's have a brief version of the instruction.\n",
    "    - Step 1: Take out 1 piece of tape, touch it gently to discharge, put it on anything insulated and mark it **N**.\n",
    "    - Step 2: Stick 2 pieces on a surface (e.g. table). Those are called **workingspaces**.\n",
    "    - Step 3: Take out 2 pieces, folder one end down a little and mark it **B**.\n",
    "    - Step 4: Take 2 more pieces, do the same as step 3 and mark it **T**.\n",
    "    - Step 5: Pick 1 workspace. Pull up **B** and **T** at the same time. Stick them (hanging) on a surface. Now, **B** is in position. So, slowly pull **T** out and stick it nearby.\n",
    "    - Step 6: Do the same for the other workspace.\n",
    "\n",
    "- Now, you have set up your experiment. Follow the later instruction to observe the behavior and record it in your report sheet.\n",
    "\n",
    "````{margin}\n",
    "```{tip}\n",
    "Same charges repels. Different charges attract!\n",
    "```\n",
    "````\n",
    "- One question will ask you to watch one video to identify the charge of each label. Make sure you watch it to answer the question. It will be super clear.\n",
    "\n",
    "```{note}\n",
    "For drawing the tape, you will have to show me which tape is negatively charged and which tape is positively charged.\n",
    "```"
   ]
  },
  {
   "cell_type": "markdown",
   "metadata": {},
   "source": [
    "## Part 2: Measuring the charge on a pith ball\n",
    "\n",
    "- For this part, there is just a picture for you to insert in Logger Pro and do analysis.\n",
    "\n",
    "- Make sure when you do it, choose <font color='red'><b>Picture with analysis</b></font>.\n",
    "\n",
    "### Setup visualization\n",
    "\n",
    "- Let's have a look of what the setup look likes.\n",
    "\n",
    "```{figure} ../../images/lab4/setup_part2_lab4.jpg\n",
    "---\n",
    "scale: 50%\n",
    "---\n",
    "```\n",
    "\n",
    "### Setup instructions\n",
    "\n",
    "- Follow the manual and repeat similar steps as previous labs.\n",
    "\n",
    "- After you follow the manual's instructions, you will use the **vertical ruler** for measuring distance between 2 points. Here is the sample Logger Pro window.\n",
    "\n",
    "```{figure} ../../images/lab4/part2_lab4.jpg\n",
    "---\n",
    "scale: 50%\n",
    "---\n",
    "```\n",
    "\n",
    "```{caution}\n",
    "In this picture, I only show how to find Dp. You will have to also find Ds!\n",
    "```\n",
    "\n",
    "````{margin}\n",
    "```{note}\n",
    "Please choose either meter or centimeter! Don't mix them up!\n",
    "```\n",
    "````\n",
    "\n",
    "### Free Body Diagram and Calculations\n",
    "\n",
    "- When you are done, record the values in the report sheet' table. \n",
    "\n",
    "- Now, start calculating $\\theta$ by using only $D_{p}$ and $D_{s}$. This will be use later.\n",
    "\n",
    "- Next, draw your body diagram on **1 ball only**.\n",
    "\n",
    "- From there, based on the observed system, we have $F_{net} = 0$. Break the forces into components and calculate $F_{e}$.\n",
    "\n",
    "- Having $F_{e}$ and equally charged balls meaings we can find the charge on each ball via **Coulomb Law**.\n",
    "\n",
    "```{warning}\n",
    "Don't forget to calculate uncertainties. Show your work!\n",
    "```\n",
    "\n",
    "\n"
   ]
  },
  {
   "cell_type": "markdown",
   "metadata": {},
   "source": [
    "## Discussion\n",
    "\n",
    "- The last question asks you to know how the angle behaves in response to the change in charge of each ball.\n",
    "\n",
    "- Now, this is a common proportional relationship between 2 quantities. **I would start by writing down relating formula and assume other quantities constant**.\n",
    "\n",
    "```{caution}\n",
    "Proportional relationship is not limited to linearity!\n",
    "```"
   ]
  },
  {
   "cell_type": "markdown",
   "metadata": {},
   "source": [
    "## Attachments\n",
    "\n",
    "- You are required to submit pictures of your experiment setup in part 1.\n",
    "\n",
    "- Here are the sample picture I want you to submit.\n",
    "\n",
    "\n",
    "````{panels} \n",
    "Table setup\n",
    "^^^\n",
    "```{figure} ../../images/lab4/attachment1_lab4.jpeg\n",
    ":alt: attachment1\n",
    ":width: 250px\n",
    ":height: 250px\n",
    ":align: center\n",
    "```\n",
    "\n",
    "---\n",
    "\n",
    "Separation setup\n",
    "^^^\n",
    "```{figure} ../../images/lab4/attachment2_lab4.jpeg\n",
    ":alt: attachment2\n",
    ":width: 300px\n",
    ":align: center\n",
    "```\n",
    "````\n",
    "\n",
    "```{warning}\n",
    "Please include these pictures in your reportsheet as one whole pdf.\n",
    "```"
   ]
  },
  {
   "cell_type": "markdown",
   "metadata": {},
   "source": [
    "## Recordings\n",
    "\n",
    "Comming Soon!"
   ]
  },
  {
   "cell_type": "markdown",
   "id": "alive-serial",
   "metadata": {},
   "source": [
    "\n",
    "```{toctree}\n",
    ":hidden:\n",
    ":titlesonly:\n",
    "\n",
    "\n",
    "Pre Lab 4 <prelab4>\n",
    "```\n"
   ]
  }
 ],
 "metadata": {
  "kernelspec": {
   "display_name": "Python 3.8.6 64-bit",
   "metadata": {
    "interpreter": {
     "hash": "be47870efd714ff30f266d670a7a9c976de1e1237e1553a6afdeab2801221655"
    }
   },
   "name": "python3"
  },
  "language_info": {
   "codemirror_mode": {
    "name": "ipython",
    "version": 3
   },
   "file_extension": ".py",
   "mimetype": "text/x-python",
   "name": "python",
   "nbconvert_exporter": "python",
   "pygments_lexer": "ipython3",
   "version": "3.8.6-final"
  }
 },
 "nbformat": 4,
 "nbformat_minor": 2
}