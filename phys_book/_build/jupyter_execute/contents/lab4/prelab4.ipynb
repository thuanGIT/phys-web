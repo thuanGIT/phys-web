{
 "cells": [
  {
   "cell_type": "markdown",
   "metadata": {},
   "source": [
    "# Pre Lab 4\n",
    "\n",
    "Here is your help on Pre Lab 4\n",
    "___ \n"
   ]
  },
  {
   "cell_type": "markdown",
   "metadata": {},
   "source": [
    "## Part 1\n",
    "\n",
    "### Question 1\n",
    "- Basically, you tell me what Coulomb's Law is.\n",
    "\n",
    "- What I want from you is: ***brief description*** and ***main formula***.\n",
    "\n",
    "```{tip}\n",
    "You can go to your note and copy them out! It's a law with a formula similar to that of Newton's attractive force.\n",
    "```\n",
    "\n",
    "### Question 2\n",
    "\n",
    "- Well, this is a conceptual question that I believe everyone knows how to do it! It is just common sense and you can even test it yourself.\n",
    "\n",
    "- There is nothing tricky here!\n"
   ]
  },
  {
   "cell_type": "markdown",
   "metadata": {},
   "source": [
    "## Part 2\n",
    "\n",
    "- Until now, everyone should be good with dealing with algebra and units.\n",
    "\n",
    "- This question is just simple calculations by **destroying unwanted units**.\n",
    "\n",
    "```{tip}\n",
    "Write out the units of each quantity!\n",
    "```\n",
    "\n"
   ]
  }
 ],
 "metadata": {
  "language_info": {
   "codemirror_mode": {
    "name": "ipython",
    "version": 3
   },
   "file_extension": ".py",
   "mimetype": "text/x-python",
   "name": "python",
   "nbconvert_exporter": "python",
   "pygments_lexer": "ipython3",
   "version": 3
  }
 },
 "nbformat": 4,
 "nbformat_minor": 2
}