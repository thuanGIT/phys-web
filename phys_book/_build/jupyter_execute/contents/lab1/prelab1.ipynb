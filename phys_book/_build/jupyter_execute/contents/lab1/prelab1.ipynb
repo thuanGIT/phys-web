{
 "cells": [
  {
   "cell_type": "markdown",
   "metadata": {},
   "source": [
    "# Pre Lab 1\n",
    "\n",
    "In this section, you will find the hints to your pre lab! Remember that I have you as many hints as I could. So please do not cheat!\n",
    "\n",
    "___"
   ]
  },
  {
   "cell_type": "markdown",
   "metadata": {},
   "source": [
    "## Overview\n",
    "- There are 2 parts in this pre lab assignment. \n",
    "    - Part 1: True/False\n",
    "    - Part 2: Data Import and Analysis\n",
    "- It is worth 2 points and <font color=red><b>due before lab 1 (11: 59PM PST January 28th, 2021)</b></font>\n"
   ]
  },
  {
   "cell_type": "markdown",
   "metadata": {},
   "source": [
    "## Part 1\n",
    "- Recall what happens if a string is stretched or compressed. More specifically, what is its tendency to react to such events?\n",
    "- The next question is just a simple force identification right?"
   ]
  },
  {
   "cell_type": "markdown",
   "metadata": {},
   "source": [
    "## Part 2\n",
    "- Step 1: Take the data and put it in Logger Pro table (left panel)\n",
    "- Step 2: Select *Analyze > Linear Fit*.\n",
    "\n",
    "![](../../images/lab1/lab1_linear_fit.jpg)\n",
    "\n",
    "- Step 3: A box appears. Make sure it shows uncertainties (double click it for settings).\n",
    "- Step 4: Change x- and y-axis label (Name and Units) by *Data > Column options*.\n",
    "\n",
    "![](../../images/lab1/lab1_axis_format.jpg)\n",
    "\n",
    "- Step 5: Extract your k values. Where? Look into this formula:\n",
    "$\n",
    "\\color{red}F \\color{red}= \\color{red}k \\color{red}* \\color{red}|\\color{red}\\Delta \\color{red}x\\color{red}|\n",
    "$\n",
    "\n",
    "```{hint}\n",
    "k is a constant with respect to each type of spring. So, which term in the equation is kept constant? Then, where is it in LoggerPro fit box?\n",
    "```\n",
    "- Step 6: Repeat it for the second table\n",
    "- Step 7: Write down the results\n",
    "\n",
    "```{note}\n",
    "Ignore uncertainties are not included in the table. Why? It is not used for calculation.\n",
    "```"
   ]
  },
  {
   "cell_type": "markdown",
   "metadata": {},
   "source": [
    "\n"
   ]
  }
 ],
 "metadata": {
  "kernelspec": {
   "display_name": "Python 3",
   "language": "python",
   "name": "python3"
  },
  "language_info": {
   "codemirror_mode": {
    "name": "ipython",
    "version": 3
   },
   "file_extension": ".py",
   "mimetype": "text/x-python",
   "name": "python",
   "nbconvert_exporter": "python",
   "pygments_lexer": "ipython3",
   "version": "3.8.5"
  }
 },
 "nbformat": 4,
 "nbformat_minor": 4
}