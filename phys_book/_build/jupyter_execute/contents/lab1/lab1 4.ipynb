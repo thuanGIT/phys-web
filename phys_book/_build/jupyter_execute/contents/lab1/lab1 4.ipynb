{
 "cells": [
  {
   "cell_type": "markdown",
   "metadata": {},
   "source": [
    "# Lab 1\n",
    "\n",
    "Here you can find all stuffs related to Lab 1\n",
    "___"
   ]
  },
  {
   "cell_type": "markdown",
   "metadata": {},
   "source": [
    "## Overview\n",
    "\n",
    "For complete guide on the experiment, please read the lab manual on Canvas [here](https://canvas.ubc.ca/courses/69484/files/12331275?module_item_id=2840042).\n",
    "\n",
    "In lab 1, you will only **do analysis with pre-recorded videos**. There are 7 videos in part 1 and 1 in part 2. So, remember 8 in total.\n",
    "\n",
    "You have to extract information from the videos (i.e. period of motion) and conduct video analysis in LoggerPro(Part 1_4)."
   ]
  },
  {
   "cell_type": "markdown",
   "metadata": {},
   "source": [
    "## Part 1: Simple Harmonic Motion\n",
    "\n",
    "Before we start, here is a table of some information needed to calculations.\n",
    "\n",
    "|$\\pmb{M_{weak}}$| $0.011\\pm{0.001} kg$\n",
    "|:---------------:|:----------------:|\n",
    "|$\\pmb{M_{strong}}$| $0.174\\pm{0.010} kg$|\n",
    "|$\\pmb{k_{weak}}$| $1.019\\pm{0.010} N/m$|\n",
    "|$\\pmb{k_{strong}}$| $10.100\\pm{0.185} N/m$\n",
    "|$\\pmb{\\delta{t_{1}}\\:or\\:\\delta{t_{2}}}$| $\\pm{0.02} s$|\n",
    "\n",
    "```{note}\n",
    "Force probe is zeroed at the point of equilibrium for each case.\n",
    "```\n",
    "\n",
    "### Section 1.1 - 1.3\n",
    "\n",
    "- Videos 1-6 are divided into 2 categories (weak and strong spring) with 3 different mass values in each \\-> <font color=red><b>Keep track on which spring is being used.</b></font>\n",
    "- You only need to look at the Youtube videos and extract the **motion period**.\n",
    "- Then, calculate $f = \\frac{1}{T}$ and $\\omega = 2*\\pi*f$.\n",
    "- <mark>Find period</mark>:\n",
    "    - You need to use equation (2). $T = \\frac{\\Delta{t}}{n}$, where n: #oscillations.\n",
    "    - Choose a point on the graph that align with one of the axis ticks. Then choose another point at later time that the object returns to that exact value (i.e. y-value) and also aligns with a tick.\n",
    "    - Record the different in time.\n",
    "    - Count the number of oscillations between them. Basically, **count the number of ticks including themselves - 1**.\n",
    "    - Here is an example:\n",
    "    \n",
    "![](../../images/lab1/lab1_period.jpg)\n",
    "\n",
    "```{caution}\n",
    "Here my index goes from 0. So there is a total of 12 ticks.\n",
    "```\n",
    "\n",
    "\n",
    "### Section 1.4\n",
    "    \n",
    "- You have your video on Canvas. Download and insert into Logger Pro.\n",
    "- **Set the scale to be from horizontal bar down to the table**\n",
    "- Plot position vs time graph of the motion by specifying positions of the object (hanger + mass) in each frame.\n",
    "- When you are done, **sketch the shape of graph into your report sheet**.\n",
    "- Here is a demo for you to follow:\n",
    "\n",
    "![](../../images/lab1/lab1_part1_4.jpg)\n",
    "\n",
    "```{tip}\n",
    "Hide the previous points to avoid cluster. And set the frame per second to 2.\n",
    "```\n"
   ]
  },
  {
   "cell_type": "markdown",
   "metadata": {},
   "source": [
    "## Part 2: Damped Simple Harmonic Motion\n",
    "- Part 2 is similar to part 1.1-1.3. All you have to do is to extract the period to calculate angular frequency $\\omega$.\n",
    "- Then, we want to compare it to one of our trial in part 1.1 - 1.3: **Hint: Look at the combined mass.**\n",
    "\n",
    "|$Mass_{board+hanger}$|$0.060\\pm{0.010} kg$|\n",
    "|:-------------------:|:--------------:|\n",
    "\n",
    "```{tip}\n",
    ":class: dropdown\n",
    "Which equation does not assume anything but rather use only data on from generated graphs?\n",
    "```\n",
    "\n",
    "- Below is the picture of the graph that you want to take the period from.\n",
    "\n",
    "![](../../images/lab1/lab1_damp.jpg)\n",
    "\n",
    "```{tip}\n",
    "Why can we do that? Basically, the system energy is lost (max y-value is smaller with time). However, your frequency is not affected. Thus, angular frequency $\\omega$ is not.\n",
    "```"
   ]
  },
  {
   "cell_type": "markdown",
   "metadata": {},
   "source": [
    "## Data Collection and Analysis\n",
    "\n",
    "- Record your data in the table and derive $\\omega$ of different cases for part 1.1-1.3.\n",
    "- Sketch the shape of the graph for part 1.4.\n",
    "- Extract $\\omega_{damped}$ and compare to part 1.1-1.3.\n",
    "- [Download Part 1.1_1.3 Excel Template](https://docs.google.com/spreadsheets/d/e/2PACX-1vRzJJjfgeLcQuS1L45VlsObmCSQuhqCSLJCvZVdfvCjzC_Ki31w3XtpX5_JkCY9Xb4u6DVfC8tZy1Ox/pub?output=xlsx)\n",
    "\n"
   ]
  },
  {
   "cell_type": "markdown",
   "metadata": {},
   "source": [
    "\n",
    "```{caution}\n",
    "Please use the report template to write. If not, your report won't be marked (not my decision tho - lab manager said so).\n",
    "```"
   ]
  },
  {
   "cell_type": "markdown",
   "metadata": {},
   "source": [
    "## Discussion Questions\n",
    "\n",
    "- Question 1: It basically asks why we always start from a simple model (with so many assumptions) before paying attention to other potential errors (i.e.system error, human error)?\n",
    "- Question 2: Basically, energy transformation. Remember we are talking about **undamped spring**.\n",
    "\n",
    "```{tip}\n",
    ":class: dropdown\n",
    "We study only 2 main types of energy in this motion. What are they?\n",
    "```"
   ]
  },
  {
   "cell_type": "markdown",
   "metadata": {},
   "source": [
    "## Recordings\n",
    "- For introduction to physics lab, please [Click Here](https://ubc.zoom.us/rec/share/g-_y_Mf_nx94CwYkEiswMXkg5iKS2owo-2SE8dAoHzxReV4Frqr5rgNcyNM4bHNk.G0eAFEwhiZx49gBH?startTime=1611945511000)\n",
    "\n",
    "- For Lab 1 stuffs, please [Click Here](https://ubc.zoom.us/rec/share/g-_y_Mf_nx94CwYkEiswMXkg5iKS2owo-2SE8dAoHzxReV4Frqr5rgNcyNM4bHNk.G0eAFEwhiZx49gBH?startTime=1611946556000)\n"
   ]
  },
  {
   "cell_type": "markdown",
   "id": "domestic-dynamics",
   "metadata": {},
   "source": [
    "\n",
    "```{toctree}\n",
    ":hidden:\n",
    ":titlesonly:\n",
    "\n",
    "\n",
    "Pre Lab 1 <prelab1>\n",
    "```\n"
   ]
  }
 ],
 "metadata": {
  "kernelspec": {
   "display_name": "Python 3",
   "language": "python",
   "name": "python3"
  },
  "language_info": {
   "codemirror_mode": {
    "name": "ipython",
    "version": 3
   },
   "file_extension": ".py",
   "mimetype": "text/x-python",
   "name": "python",
   "nbconvert_exporter": "python",
   "pygments_lexer": "ipython3",
   "version": "3.8.5-final"
  }
 },
 "nbformat": 4,
 "nbformat_minor": 4
}