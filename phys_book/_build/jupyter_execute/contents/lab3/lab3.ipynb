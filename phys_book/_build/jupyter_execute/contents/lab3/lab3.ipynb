{
 "cells": [
  {
   "cell_type": "markdown",
   "metadata": {},
   "source": [
    "# Lab 3\n",
    "\n",
    "Here are stuffs for Lab 3\n",
    "\n",
    "___\n",
    "\n"
   ]
  },
  {
   "cell_type": "code",
   "execution_count": 1,
   "metadata": {
    "tags": [
     "remove-input"
    ]
   },
   "outputs": [
    {
     "data": {
      "image/png": "[encoded data removed]",
      "text/plain": [
       "<PIL.PngImagePlugin.PngImageFile image mode=RGBA size=200x200 at 0x7FD4128173A0>"
      ]
     },
     "metadata": {
      "filenames": {
       "image/png": "/Users/carol/Desktop/labbook/phys_book/phys_book/_build/jupyter_execute/contents/lab3/lab3_1_0.png"
      },
      "scrapbook": {
       "mime_prefix": "application/papermill.record/",
       "name": "mid"
      }
     },
     "output_type": "display_data"
    },
    {
     "data": {
      "image/png": "[encoded data removed]",
      "text/plain": [
       "<PIL.PngImagePlugin.PngImageFile image mode=RGBA size=200x200 at 0x7FD412765340>"
      ]
     },
     "metadata": {
      "filenames": {
       "image/png": "/Users/carol/Desktop/labbook/phys_book/phys_book/_build/jupyter_execute/contents/lab3/lab3_1_1.png"
      },
      "scrapbook": {
       "mime_prefix": "application/papermill.record/",
       "name": "quarter"
      }
     },
     "output_type": "display_data"
    }
   ],
   "source": [
    "## Set up for displaying images\n",
    "from PIL import Image\n",
    "from myst_nb import glue\n",
    "\n",
    "mid = Image.open('../../images/lab3/mid_lab3.png')\n",
    "quarter = Image.open('../../images/lab3/quarter_lab3.png')\n",
    "\n",
    "glue('mid',mid,display=False)\n",
    "glue('quarter', quarter,display=False)"
   ]
  },
  {
   "cell_type": "markdown",
   "metadata": {},
   "source": [
    "## Overview\n",
    "\n",
    "- This lab is short since you do not have to collect many data.\n",
    "\n",
    "- However, you might need to write a lot to describe and explana physical events."
   ]
  },
  {
   "cell_type": "markdown",
   "metadata": {},
   "source": [
    "## Part 1: Finding the speed of sound (longitudinal) in an aluminum rod\n",
    "\n",
    "- Here, you have to look at **1 video** that contains 2 sections corresponding 2 ways of holding the rod.\n",
    "    - Midpoint.\n",
    "    - A quarter length from one end.\n",
    "\n",
    "- Let's have a look of 2 setups.\n",
    "\n",
    "|Midpoint|A quarter length|\n",
    "|:---:|:---:|\n",
    "|{glue:}`mid`|{glue:}`quarter`|\n",
    "\n",
    "\n",
    "- Remember in pre lab that holding a point on the rod is forcing a node there?\n",
    "\n",
    "- Your main task: <mark><b>Find the hamornics of the natural frequency of the rod</b></mark>. Steps:\n",
    "    - Collect surrounding values near the frequency at which there is a peak in amptitude.\n",
    "    - Take their **average** to represent the harmonic.\n",
    "    - Uncertainties of the harmonics is represented by **standard error**.\n",
    "\n",
    "```{note}\n",
    "Use only the frequency hightlighted by Dr. H on the left panel.\n",
    "```\n",
    "\n",
    "````{margin}\n",
    "```{tip}\n",
    "Use your drawing in pre lab 3.\n",
    "```\n",
    "````\n",
    "- From there, you can find the wave speed $v$ from the formula $v = \\lambda * f$. How to find $\\lambda$? Recall $\\lambda = \\frac{2 * L}{n}$, where <font colo='red'><b>n = # nodes</b></font>."
   ]
  },
  {
   "cell_type": "markdown",
   "metadata": {},
   "source": [
    "## Part 2: Waveforms, spectra and intensity\n",
    "\n",
    "- There are a few things you need to for this parts so let me break them down.\n",
    "\n",
    "- There are no data collections. Only explanations to phenomena and drawings are required.\n",
    "\n",
    "- Before we go any further, let's have a look at the setup for tunning fork.\n",
    "\n",
    "![](../../images/lab3/fork_lab3.png)\n",
    "\n",
    "### Section 1: Sketch the motion of the fork\n",
    "\n",
    "````{margin}\n",
    "```{note}\n",
    "The fork is the U-shape thingy!\n",
    "```\n",
    "````\n",
    "\n",
    "- Just draw what you observe! \n",
    "\n",
    "- I would suggest using dash lines to represent their positions at previous times.\n",
    "\n",
    "### Section 2: Describe sound quality and harmonics\n",
    "\n",
    "- Let's answer these questions:\n",
    "    - Was the sound clear and pure?\n",
    "    - How many harmonics were present? **Look at the FFT graph**.\n",
    "    - Where are the peaks located in FFT graphs?\n",
    "\n",
    "\n",
    "- Here is a sample one. Notice the peaks?\n",
    "\n",
    "![](../../images/lab3/FFT_lab3.png)\n",
    "\n",
    "\n",
    "\n",
    "```{tip}\n",
    "The first peak is the fundamental (first harmonics) frequency!\n",
    "```\n",
    "\n",
    "### Section 3: Sound behaviors as tuning fork hit against the table\n",
    "\n",
    "- Just answer as your listen and observe. It should be straight-forward.\n",
    "\n",
    "- Too hard? Try these analogies:\n",
    "\n",
    "    - **Image the tunning fork (vibrating) touches your hand. How would your hand feel? Is it shaking?**.\n",
    "\n",
    "    - **Imagine one person talks loudly. What happens if there are 99 more people speak the same way?**\n",
    "\n",
    "\n",
    "### Section 4: Appearance of wave function of pitch pipe\n",
    "\n",
    "- Well, basically describe what the function looks like.\n",
    "\n",
    "- Answer these questions:\n",
    "    - Rapid or slow oscillation? Slow means the curve is wider!\n",
    "    - How was the sound compared to that of the tunning fork.\n",
    "\n",
    "\n",
    "### Section 5: Harmonics of pitch pipe\n",
    "\n",
    "- Let's compare the FFT graph of the tunning fork and the pitch pipe.\n",
    "\n",
    "- Answer this question:\n",
    "    - How many peaks are there in the each FFT graph?\n",
    "\n",
    "### Section 6: Chest and Falsetto voice\n",
    "\n",
    "- Falsetto voice is basically your 'breathy' voice, the one that sounds like Mariah Carey or Ariana Grande.\n",
    "\n",
    "- So, you just have to compare that to the normal voice (Chest voice).\n",
    "\n",
    "```{note}\n",
    "Please let me know if you have a better definition. And please don't judge me if I listen to Ari's songs.\n",
    "```\n",
    "\n"
   ]
  },
  {
   "cell_type": "markdown",
   "metadata": {},
   "source": [
    "## Data Collection\n",
    "\n",
    "- Please fill your observed data in the table on page 1 (Just that one).\n",
    "\n",
    "- [Download Excel Template](https://docs.google.com/spreadsheets/d/e/2PACX-1vTU1OEUlv_7NE0GgFGPIIlE4Wk7TuYWCZj-yl8tgvuutOBaWxr_BdXPYmNI2nFnTw/pub?output=xlsx)"
   ]
  },
  {
   "cell_type": "markdown",
   "metadata": {},
   "source": [
    "## Uncertainties Calculation\n",
    "````{margin}\n",
    "```{warning}\n",
    "Giving only the formula will gain you only half marks!\n",
    "```\n",
    "````\n",
    "- You have to show me how you calculate the uncertainties in Part 1 via **an example with actuall values**.\n",
    "\n",
    "- **I would recommend doing it without Excel Sheet for practice!**\n"
   ]
  },
  {
   "cell_type": "markdown",
   "metadata": {},
   "source": [
    "## Discussion\n",
    "\n",
    "- Now, this is also a very tricky question! But with common sense, it is easy.\n",
    "\n",
    "- I want you to answer these questions: \n",
    "    - **What formula did we use to calculate wave speed v?**\n",
    "    - **Which term in the formula is taken from experimental data?**\n",
    "    - **How are the values of that term collected (experiment setup)?**\n",
    "\n",
    "```{tip}\n",
    "The mic did not touch the rod! Right!?\n",
    "```"
   ]
  },
  {
   "cell_type": "markdown",
   "metadata": {},
   "source": [
    "## Recordings\n",
    "\n",
    "- Lab Procedure: [Click Here](https://ubc.zoom.us/rec/share/uVht9f5PeuMS2d_9SxoUZLs3H3_ua7OgY_xYB35NFjxTNULJsZjW2BrfC4SZ6eND.CKMwdrfBFDqzwIQ4)"
   ]
  },
  {
   "cell_type": "markdown",
   "id": "alternate-jefferson",
   "metadata": {},
   "source": [
    "\n",
    "```{toctree}\n",
    ":hidden:\n",
    ":titlesonly:\n",
    "\n",
    "\n",
    "Pre Lab 3 <prelab3>\n",
    "```\n"
   ]
  }
 ],
 "metadata": {
  "kernelspec": {
   "display_name": "Python 3",
   "language": "python",
   "name": "python3"
  },
  "language_info": {
   "codemirror_mode": {
    "name": "ipython",
    "version": 3
   },
   "file_extension": ".py",
   "mimetype": "text/x-python",
   "name": "python",
   "nbconvert_exporter": "python",
   "pygments_lexer": "ipython3",
   "version": "3.8.6-final"
  }
 },
 "nbformat": 4,
 "nbformat_minor": 2
}