{
 "cells": [
  {
   "cell_type": "markdown",
   "metadata": {},
   "source": [
    "# Welcome to PHYS122 Labs\n",
    "\n",
    "- You are here because you are registed in either section **L03** or **L12**.\n",
    "- Anything related to the lab can be found in the sections (left panel).\n",
    "\n"
   ]
  },
  {
   "cell_type": "markdown",
   "metadata": {},
   "source": [
    "## Rules \n",
    "\n",
    "1. **Keep this book a secret** place for yourself or anyone registered in physics lab.\n",
    "2. <font color=red><b>Do not ever release your student ID on this book.</b></font>\n",
    "3. Contents are updated regularly but not guaranteed (I will try my best tho).\n",
    "4. Have fun exploring! And if you spot a typo or have a great idea for edition of the page, please let me know!\n",
    "\n",
    "\n",
    "```{Warning}\n",
    "Please try your best to keep the rules. Otherwise, you and I are in trouble! Let's stay low.\n",
    "\n",
    "```"
   ]
  },
  {
   "cell_type": "markdown",
   "metadata": {},
   "source": []
  },
  {
   "cell_type": "markdown",
   "id": "eligible-joshua",
   "metadata": {},
   "source": [
    "\n",
    "```{toctree}\n",
    ":hidden:\n",
    ":titlesonly:\n",
    ":caption: About Physics Lab\n",
    "\n",
    "Lab Syllabus <syllabus>\n",
    "../contents/general_info\n",
    "excel_rule\n",
    "expectation\n",
    "```\n",
    "\n",
    "\n",
    "```{toctree}\n",
    ":hidden:\n",
    ":titlesonly:\n",
    ":caption: Schedule\n",
    "\n",
    "Dates to remember <schedule>\n",
    "```\n",
    "\n",
    "\n",
    "```{toctree}\n",
    ":hidden:\n",
    ":titlesonly:\n",
    ":caption: Setting up\n",
    "\n",
    "installation\n",
    "```\n",
    "\n",
    "\n",
    "```{toctree}\n",
    ":hidden:\n",
    ":titlesonly:\n",
    ":caption: Labs\n",
    "\n",
    "../contents/lab1/lab1\n",
    "../contents/lab2/lab2\n",
    "../contents/lab3/lab3\n",
    "../contents/lab4/lab4\n",
    "../contents/lab5/lab5\n",
    "```\n"
   ]
  }
 ],
 "metadata": {
  "kernelspec": {
   "display_name": "Python 3",
   "language": "python",
   "name": "python3"
  },
  "language_info": {
   "codemirror_mode": {
    "name": "ipython",
    "version": 3
   },
   "file_extension": ".py",
   "mimetype": "text/x-python",
   "name": "python",
   "nbconvert_exporter": "python",
   "pygments_lexer": "ipython3",
   "version": "3.8.5"
  }
 },
 "nbformat": 4,
 "nbformat_minor": 4
}