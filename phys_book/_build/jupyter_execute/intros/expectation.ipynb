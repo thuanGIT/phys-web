{
 "cells": [
  {
   "cell_type": "markdown",
   "metadata": {},
   "source": [
    "# Expectations\n",
    "\n",
    "Here are the things I want you to learn from the lab!\n",
    "___"
   ]
  },
  {
   "cell_type": "markdown",
   "metadata": {},
   "source": [
    "## Overview\n",
    "- I know this is really subjective as I base everything on what I learnt and experienced. So, before we begin, let me mark my word here.\n",
    "\n",
    "> Skills are what you need. \n",
    "> It is your choice to decide your way to learn it.\n",
    "\n",
    "- In other words, you don't have to follow me. Just know those skills are the essential skills!"
   ]
  },
  {
   "cell_type": "markdown",
   "metadata": {},
   "source": [
    "## What you get from lab\n",
    "\n",
    "- Now, I want to go a little deeper into what I mean.\n",
    "\n",
    "### Descriptions\n",
    "\n",
    "- Whenever you are asked to **observe** a physical events, keep in mind these things.\n",
    "    - What you see is different from what others see. **Your view is unique**.\n",
    "    - What you see might not be what is really happening. **You need to evaluate it**.\n",
    "    - What you report is what you see after making adjustments. **Do not use assumptions**.\n",
    "\n",
    "- Do your sentences need to be elegant and complex? <mark>No! Information matters more!</mark>\n",
    "\n",
    "```{attention}\n",
    "Observation is the crucial steps in science. But the eyes are easily deceived.\n",
    "```\n",
    "\n",
    "### Explanations\n",
    "\n",
    "- Whenever you are asked to **explain** a physics events, keep in mind these things.\n",
    "    - Your first thoughts of the matter is not always the ultimately correct one.\n",
    "    - Your second thoughts might be not.\n",
    "    - Only when you think about it so many times, you will get the right idea. **Dedication matters**.\n",
    "    - Explain with all your understanding and efforts. \n",
    "    - Others' idea might be right. You can use it but in your own words.\n",
    "    - Other's idea might be wrong. If you suspect it, investigate it! **Do not trust what you cannot trust**. \n",
    "\n",
    "- Again, do your sentences need to be elegant and complex? <mark>No! Information matters more!</mark>\n",
    "\n",
    "```{caution}\n",
    "Your prof's words might sound elegant but it is not coming your own mind!\n",
    "```\n",
    "### Data Analysis\n",
    "\n",
    "- This is an important part that you definitely need to learn.\n",
    "- What labs are all about: **Data**.\n",
    "- Data are presented in raw (meaningless columns and rows).\n",
    "- Your tasks: Transform the data into something useful and draw helpful information from that.\n",
    "- Your next task: Explain whether your dataset is reasonable? Anything abnormal?\n",
    "    - What if my data is perfect? Great! Just go on with it!\n",
    "    - What if my data is screwed? No worries! Look for the error! And note it down.\n",
    "    - What if my data is weird? Well, you might have discovered something! Note it donw.\n",
    "\n",
    "- Your final task: Give your analysis on the data.\n",
    "    - Comparing columns: E.g. \"within experimental\" meanings \"there is a overlap region of those compared numbers\".\n",
    "    - Graph: E.g. Given a linear function, what does the slope represent? Can it be use to do something? \n",
    "    - Abnormal things: E.g. My data is negative but most of my friends have positive data. What might happen?\n",
    "\n",
    "```{warning}\n",
    "A simple yes or no does not give anything useful!\n",
    "```"
   ]
  },
  {
   "cell_type": "markdown",
   "metadata": {},
   "source": [
    "## What you contribute to lab\n",
    "\n",
    "- Let's talk about what you do for the labs and for me.\n",
    "\n",
    "### Diversity\n",
    "\n",
    "- What I am having from you all is the unique understanding and views on the subject from every individual.\n",
    "- You bring new ideas into the table. You bring up problems that we, TA, have not encountered.\n",
    "- You bring new ways of solving problems that beyond the answer sheets.\n",
    "\n",
    "### Problems\n",
    "\n",
    "- Yes, problems! You made problems for me solve such that the system can be improved. Your problems helped us cover all the edge cases that we have not though of, especially in these difficult times.\n",
    "- Your feedbacks and complains will always be heard."
   ]
  },
  {
   "cell_type": "markdown",
   "metadata": {},
   "source": [
    "## Your extra task\n",
    "\n",
    "- I would reccomend you every week to go back to your previous reports and ask yourself some questions:\n",
    "    - Could I have done this better?\n",
    "    - What did I do wrong here?\n",
    "    - What have I learned from here?\n",
    "- Now, you are asking me: How do I practice these skills?\n",
    "    - It is everywhere. Labs are basically throwing you a bunch of data to solve.\n",
    "    - Choose a problem around you.\n",
    "    - Let's say I record which time I go to sleep and do some analysis on it.\n",
    "        - Am I sleeping late?\n",
    "        - Is there a day I sleep early? Why?\n",
    "        - What make me sleep late?\n",
    "        - If I graph a line chart of my sleeping record, I wonder what the trend is. Am I sleeping earlier? Or even later?\n",
    "        - If I graph a line chart of my sleeping record against the time I spend playing game, I wonder whether gaming causes me to lose sleep?\n",
    "\n",
    "- Goodluck!\n",
    "\n",
    "```{tip}\n",
    "Problems are everywhere! I beg you have other labs too! Try using these skills there!\n",
    "```"
   ]
  }
 ],
 "metadata": {
  "language_info": {
   "codemirror_mode": {
    "name": "ipython",
    "version": 3
   },
   "file_extension": ".py",
   "mimetype": "text/x-python",
   "name": "python",
   "nbconvert_exporter": "python",
   "pygments_lexer": "ipython3",
   "version": 3
  }
 },
 "nbformat": 4,
 "nbformat_minor": 2
}