{
 "metadata": {
  "language_info": {
   "codemirror_mode": {
    "name": "ipython",
    "version": 3
   },
   "file_extension": ".py",
   "mimetype": "text/x-python",
   "name": "python",
   "nbconvert_exporter": "python",
   "pygments_lexer": "ipython3",
   "version": 3
  },
  "orig_nbformat": 2
 },
 "nbformat": 4,
 "nbformat_minor": 2,
 "cells": [
  {
   "source": [
    "# Excel Rules\n",
    "Here is our experiment on community driven excel sheet.\n",
    "\n",
    "___"
   ],
   "cell_type": "markdown",
   "metadata": {}
  },
  {
   "source": [
    "## Overview\n",
    "\n",
    "- Since the typo incident in lab 2 excel sheet (**sorry!**), I realize we are depending a little too much on the provided sheet.\n",
    "\n",
    "- As a solution, I will let everyone construct the sheet as a team instead of me doing it.\n",
    "\n",
    "- Your contribution is recorded as described in the next section."
   ],
   "cell_type": "markdown",
   "metadata": {}
  },
  {
   "source": [
    "## Procedure\n",
    "\n",
    "- Now, let's answer your question on how it is conducted. The following figure will represent our schedule.\n",
    "\n",
    "```{figure} ../images/ExcelSheetTimeline.jpg\n",
    "---\n",
    "scale: 70%\n",
    "---\n",
    "```\n",
    "\n",
    "````{margin}\n",
    "```{note}\n",
    "We start from lab 5 since lab 4 does not need excel sheets.\n",
    "```\n",
    "````\n",
    "\n",
    "- **Note**: I have change the end date a little as we don't really need that much time to work on it. I would spend Sunday to check the excel sheet everyone sends me.\n",
    "\n",
    "```{attention}\n",
    "Start day is 5PM Thursday. And end date is Saturday 11:59PM.\n",
    "```\n",
    "\n"
   ],
   "cell_type": "markdown",
   "metadata": {}
  },
  {
   "source": [
    "## Evaluation\n",
    "\n",
    "- Here comes how you are given bonuses! Look at the tables below:\n",
    "\n",
    "````{margin}\n",
    "```{note}\n",
    "Extra bonus means you add the extra to your base bonus. So, one can have max 1 bonus point!\n",
    "```\n",
    "\n",
    "````\n",
    "````{panels}\n",
    ":header: bg-info\n",
    ":column: + p-1 border-0\n",
    "---\n",
    "Contributing Rewards\n",
    "^^^ \n",
    "| Contributions    | Bonuses   |\n",
    "|:----------------:|:---------:|\n",
    "| Add formulas     | 0.5       |\n",
    "| Edit UI (colors) | 0.25      | \n",
    "| Proof checking   | 0.25      |\n",
    "\n",
    "---\n",
    "\n",
    "Extra bonuses for top contributors\n",
    "^^^\n",
    "| Rank | Extra Bonus |\n",
    "|------|-------------|\n",
    "| 1    | 0.5         |\n",
    "| 2    | 0.25        |\n",
    "\n",
    "````\n",
    "\n",
    "\n",
    "```{note}\n",
    "If you have any questions about this or want to suggest another way, please let me know!\n",
    "```\n"
   ],
   "cell_type": "markdown",
   "metadata": {}
  },
  {
   "source": [],
   "cell_type": "markdown",
   "metadata": {}
  },
  {
   "source": [],
   "cell_type": "markdown",
   "metadata": {}
  },
  {
   "source": [
    "## Rules\n",
    "\n",
    "- <b>Please contribute useful tools and information.</b>\n",
    "- Use an email with your name. <font color='red'><b>Do not include student number</b></font>\n",
    "- Honesty and devotion is really appreciated.\n",
    "- Do not overwrite correct formulas unless you spot an error.\n",
    "\n",
    "```{attention}\n",
    "I can see and filter your contributions. So, please give your best and do it for everyone! Not for grades!\n",
    "```"
   ],
   "cell_type": "markdown",
   "metadata": {}
  }
 ]
}