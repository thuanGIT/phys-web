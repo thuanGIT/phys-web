{
 "metadata": {
  "language_info": {
   "codemirror_mode": {
    "name": "ipython",
    "version": 3
   },
   "file_extension": ".py",
   "mimetype": "text/x-python",
   "name": "python",
   "nbconvert_exporter": "python",
   "pygments_lexer": "ipython3",
   "version": 3
  },
  "orig_nbformat": 2
 },
 "nbformat": 4,
 "nbformat_minor": 2,
 "cells": [
  {
   "source": [
    "# Pre Lab 5\n",
    "\n",
    "Here are some help for pre lab 5\n",
    "___"
   ],
   "cell_type": "markdown",
   "metadata": {}
  },
  {
   "source": [
    "## Part 1\n",
    "\n",
    "- Here is an equation to keep in mind for this question.\n",
    "$$E_{s} = -\\frac{dV}{ds}$$\n",
    "\n",
    "- The formula is derived as such: \n",
    "\n",
    "```{figure} ../../images/lab5/concept_lab5.jpg\n",
    "---\n",
    "scale: 50%\n",
    "---\n",
    "\n",
    "```"
   ],
   "cell_type": "markdown",
   "metadata": {}
  },
  {
   "source": [
    "## Part 2\n",
    "\n",
    "- Our question is:\n",
    "\n",
    "> Explain why a conductor in electrostatic equilibrium should have no electric field parallel to its \n",
    "> surface, nor within its bulk. (Hint: think about the forces on a free to move cha,rged particle\n",
    "\n",
    "- Few things to consider about conductors:\n",
    "    - <mark>Electrostatic means no <b>net</b> movement of charges.</mark>\n",
    "    - <mark>Charges in a conductor are free to move <b>(does not mean they are moving!)</b>.</mark>\n",
    "\n",
    "- Few basic concepts about electric fields:\n",
    "    - Electric field is the distorted space (by a charged source object) that exerts electric force on any charge surrounding charged objects.\n",
    "    - **If there is a force that disturbs equilibrium, acceleration is present, meaning things are moving.**\n",
    "\n",
    "```{tip}\n",
    "Use contradiction to prove this!\n",
    "```\n",
    "-  Now, the question should be clear. Answering this will also give you an idea why the electric field is only available at the surface and perpendicular to the surface.\n",
    "\n",
    "- A picture for you:\n",
    "\n",
    "```{figure} ../../images/lab5/conductor.gif\n",
    ":scale: 110\n",
    "```\n",
    "\n",
    "```{seealso}\n",
    "A conductor is an equipotential surface. That means $\\Delta{V} = 0$ everywhere inside it.\n",
    "```\n"
   ],
   "cell_type": "markdown",
   "metadata": {}
  },
  {
   "source": [
    "## Part 3\n",
    "\n",
    "- Our question is:\n",
    "\n",
    "> When a steady current I is flowing through a conductor with a non-negligible resistance R, it will be possible to maintain a potential difference $\\Delta{V} = I*R$ between parts of the conductor along the direction of the current. Explain why in this situation there should be an electric fieid in\n",
    "the direction of the current but not in the direction perpendicular to the current. \n",
    "\n",
    "- Now, a few things to consider:\n",
    "    - The above concepts about electric fields.\n",
    "    - With a current inside a conductor, the charges are moving, **driven by an electric field in the same direction**.\n",
    "    - <mark>This field is originated from the potential difference between *upstream* and *downstream* of the source (i.e. battery).</mark>\n",
    "\n",
    "- A picture for you to understand what I am saying:\n",
    "\n",
    "```{figure} ../../images/lab5/current_lab5.png\n",
    ":scale: 50\n",
    "```\n",
    "\n",
    "- Now, those help answer the first part of the question. The seccond needs some imagination:\n",
    "    - <mark>Think of conductor as a metal wire.</mark>\n",
    "    - Now, **an electric field perpendicular to the current** will drive the current a way such that it is **closer to the surface**. Right?\n",
    "    - Now, let's answer these:\n",
    "        - **Can the charge escape the conductor to the environment?**\n",
    "        - **If not, how does it behave?**\n",
    "```{tip}\n",
    "Is there a disturbance to the flow? Anything stuck?\n",
    "```\n"
   ],
   "cell_type": "markdown",
   "metadata": {}
  },
  {
   "source": [
    "## Excel Survey Link\n",
    "\n",
    "<a target=_blank href=https://ubc.ca1.qualtrics.com/jfe/form/SV_dbztRdUBHaxtNBA>Click Here!</a>\n",
    "\n",
    "```{attention}\n",
    "Make sure to do it so we know what to do!\n",
    "```"
   ],
   "cell_type": "markdown",
   "metadata": {}
  }
 ]
}