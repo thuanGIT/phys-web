{
 "cells": [
  {
   "cell_type": "markdown",
   "metadata": {},
   "source": [
    "# Lab 2\n",
    "\n",
    "Here are some stuffs for lab2\n",
    "\n",
    "____"
   ]
  },
  {
   "cell_type": "markdown",
   "metadata": {},
   "source": [
    "## Part 1: Tension Calculation\n",
    "\n",
    "```{tip}\n",
    "Excel will help you calculate all in a few seconds!\n",
    "```"
   ]
  },
  {
   "cell_type": "markdown",
   "metadata": {},
   "source": [
    "## Part 2: Frequency & Pitch?\n",
    "\n",
    "\n",
    "### Coming soon!\n"
   ]
  },
  {
   "cell_type": "markdown",
   "metadata": {},
   "source": [
    "## Part 3:\n",
    "\n",
    "- Now, there are <font color='red'><b>6 videos</b></font> corresponding to the number of anti-nodes in each case."
   ]
  },
  {
   "cell_type": "markdown",
   "metadata": {},
   "source": [
    "## Part 4: \n",
    "\n",
    "### Coming Soon"
   ]
  },
  {
   "cell_type": "markdown",
   "metadata": {},
   "source": [
    "## Part 5: Plot and linear Fit\n",
    "\n",
    "- In this part, you will have to plot your data in Logger Pro.\n",
    "- <mark>Steps to plot your data</mark>:\n",
    "    - Enter values of \"n\" to X column. Enter the values of frequency to Y column. (go back to Pre lab 1)\n",
    "    - Create a new column: \n",
    "        - **Select Data > New Manual Column > Options header**\n",
    "        - **Check Error bar calculations**\n",
    "        - **Select Fixed value**\n",
    "\n",
    "![](../../images/lab2/add_column.png)\n",
    "\n",
    "\n",
    "- Here is an demonstration of what your graph might look like:"
   ]
  },
  {
   "cell_type": "code",
   "execution_count": 2,
   "metadata": {
    "tags": [
     "hide-input"
    ]
   },
   "outputs": [
    {
     "output_type": "execute_result",
     "data": {
      "text/html": "\n<div id=\"altair-viz-d6c8f2a5f3c34ab3b328b62fac5815f3\"></div>\n<script type=\"text/javascript\">\n  (function(spec, embedOpt){\n    let outputDiv = document.currentScript.previousElementSibling;\n    if (outputDiv.id !== \"altair-viz-d6c8f2a5f3c34ab3b328b62fac5815f3\") {\n      outputDiv = document.getElementById(\"altair-viz-d6c8f2a5f3c34ab3b328b62fac5815f3\");\n    }\n    const paths = {\n      \"vega\": \"https://cdn.jsdelivr.net/npm//vega@5?noext\",\n      \"vega-lib\": \"https://cdn.jsdelivr.net/npm//vega-lib?noext\",\n      \"vega-lite\": \"https://cdn.jsdelivr.net/npm//vega-lite@4.8.1?noext\",\n      \"vega-embed\": \"https://cdn.jsdelivr.net/npm//vega-embed@6?noext\",\n    };\n\n    function loadScript(lib) {\n      return new Promise(function(resolve, reject) {\n        var s = document.createElement('script');\n        s.src = paths[lib];\n        s.async = true;\n        s.onload = () => resolve(paths[lib]);\n        s.onerror = () => reject(`Error loading script: ${paths[lib]}`);\n        document.getElementsByTagName(\"head\")[0].appendChild(s);\n      });\n    }\n\n    function showError(err) {\n      outputDiv.innerHTML = `<div class=\"error\" style=\"color:red;\">${err}</div>`;\n      throw err;\n    }\n\n    function displayChart(vegaEmbed) {\n      vegaEmbed(outputDiv, spec, embedOpt)\n        .catch(err => showError(`Javascript Error: ${err.message}<br>This usually means there's a typo in your chart specification. See the javascript console for the full traceback.`));\n    }\n\n    if(typeof define === \"function\" && define.amd) {\n      requirejs.config({paths});\n      require([\"vega-embed\"], displayChart, err => showError(`Error loading script: ${err.message}`));\n    } else if (typeof vegaEmbed === \"function\") {\n      displayChart(vegaEmbed);\n    } else {\n      loadScript(\"vega\")\n        .then(() => loadScript(\"vega-lite\"))\n        .then(() => loadScript(\"vega-embed\"))\n        .catch(showError)\n        .then(() => displayChart(vegaEmbed));\n    }\n  })({\"config\": {\"view\": {\"continuousWidth\": 400, \"continuousHeight\": 300}}, \"layer\": [{\"mark\": {\"type\": \"circle\", \"color\": \"teal\", \"opacity\": 0.6, \"size\": 70}, \"encoding\": {\"x\": {\"type\": \"quantitative\", \"field\": \"n\", \"scale\": {\"domain\": [0, 7]}, \"title\": \"Number of antinodes\"}, \"y\": {\"type\": \"quantitative\", \"field\": \"f\", \"scale\": {\"domain\": [0, 100]}, \"title\": \"Frequency (Hz)\"}}, \"height\": 300, \"title\": \"Frequency vs Number of antinodes\", \"width\": 300}, {\"mark\": {\"type\": \"line\", \"color\": \"red\", \"strokeDash\": [3.0, 3.0]}, \"encoding\": {\"x\": {\"type\": \"quantitative\", \"field\": \"n\", \"scale\": {\"domain\": [0, 7]}, \"title\": \"Number of antinodes\"}, \"y\": {\"type\": \"quantitative\", \"field\": \"f\", \"scale\": {\"domain\": [0, 100]}, \"title\": \"Frequency (Hz)\"}}, \"height\": 300, \"title\": \"Frequency vs Number of antinodes\", \"transform\": [{\"on\": \"n\", \"regression\": \"f\", \"method\": \"linear\"}], \"width\": 300}, {\"mark\": {\"type\": \"errorbar\", \"extent\": \"stderr\"}, \"encoding\": {\"x\": {\"type\": \"quantitative\", \"field\": \"x\"}, \"y\": {\"type\": \"quantitative\", \"field\": \"f\", \"scale\": {\"domain\": [0, 100]}, \"title\": \"Frequency (Hz)\"}, \"yError\": {\"field\": \"f_error:Q\"}}, \"height\": 300, \"title\": \"Frequency vs Number of antinodes\", \"width\": 300}], \"data\": {\"name\": \"data-fd53f1295d8c6ea9afcf185e30463b96\"}, \"$schema\": \"https://vega.github.io/schema/vega-lite/v4.8.1.json\", \"datasets\": {\"data-fd53f1295d8c6ea9afcf185e30463b96\": [{\"n\": 1, \"f\": 15.05, \"f_error\": 0.1}, {\"n\": 2, \"f\": 30.2, \"f_error\": 0.3}, {\"n\": 3, \"f\": 45.0, \"f_error\": 0.3}, {\"n\": 4, \"f\": 60.3, \"f_error\": 0.3}, {\"n\": 5, \"f\": 74.4, \"f_error\": 0.3}, {\"n\": 6, \"f\": 87.7, \"f_error\": 0.3}]}}, {\"mode\": \"vega-lite\"});\n</script>",
      "text/plain": [
       "alt.LayerChart(...)"
      ]
     },
     "metadata": {},
     "execution_count": 2
    }
   ],
   "source": [
    "import altair as alt\n",
    "import pandas as pd\n",
    "import numpy as np\n",
    "\n",
    "data = pd.read_csv('./lab2.csv', delimiter=',').rename(columns={'Number of Anti_nodes': 'n', 'f (Hz)': 'f','f error (Hz)': 'f_error'})\n",
    "\n",
    "chart = alt.Chart(data, height=300, width=300).mark_circle(\n",
    "    color='teal', \n",
    "    size = 70, \n",
    "    opacity=0.6,\n",
    ").encode(\n",
    "    x=alt.X('n:Q', title='Number of antinodes',scale=alt.Scale(domain=(0, 7))),\n",
    "    y=alt.Y('f:Q', title='Frequency (Hz)',scale=alt.Scale(domain=(0, 100)))\n",
    ").properties(\n",
    "    title='Frequency vs Number of antinodes'\n",
    ")\n",
    "\n",
    "# Generate regression line\n",
    "linear_fit=chart.transform_regression('n', 'f', method='linear').mark_line(color=\"red\",strokeDash=np.array([3,3]))\n",
    "\n",
    "# # generate the error bars\n",
    "errorbars = chart.mark_errorbar(extent='stderr').encode(\n",
    "    x=alt.X('x:Q'),\n",
    "    yError=alt.YError(field='f_error:Q')\n",
    ")\n",
    "\n",
    "# Display the chart\n",
    "alt.layer(chart,linear_fit, errorbars)"
   ]
  },
  {
   "cell_type": "markdown",
   "metadata": {},
   "source": [
    "```{caution}\n",
    "This is just a demo. Your graph should be in Logger Pro, which might look different! But it might give u a sense of what the values should be!\n",
    "```"
   ]
  },
  {
   "source": [
    "## Data Collection and Analysis\n",
    "\n",
    "-  \n",
    "- [Download Excel Template](https://docs.google.com/spreadsheets/d/e/2PACX-1vRAQbU1WT9LTW74JDTUguWd6Vcxvokxwkpgg5uOfV9XhA0Z3NokKYqnrwWIyuTdEVlFbwMzPE9xcfkF/pub?output=xlsx)\n",
    "\n"
   ],
   "cell_type": "markdown",
   "metadata": {}
  },
  {
   "cell_type": "markdown",
   "metadata": {},
   "source": [
    "## Discussion Question\n",
    "\n",
    "- \n",
    "![](../../images/lab2/discussion_lab2.jpg)\n",
    "\n"
   ]
  },
  {
   "source": [],
   "cell_type": "markdown",
   "metadata": {}
  },
  {
   "source": [],
   "cell_type": "markdown",
   "metadata": {}
  }
 ],
 "metadata": {
  "kernelspec": {
   "name": "python3",
   "display_name": "Python 3.8.6 64-bit ('phys-web': conda)",
   "metadata": {
    "interpreter": {
     "hash": "be47870efd714ff30f266d670a7a9c976de1e1237e1553a6afdeab2801221655"
    }
   }
  },
  "language_info": {
   "codemirror_mode": {
    "name": "ipython",
    "version": 3
   },
   "file_extension": ".py",
   "mimetype": "text/x-python",
   "name": "python",
   "nbconvert_exporter": "python",
   "pygments_lexer": "ipython3",
   "version": "3.8.6-final"
  }
 },
 "nbformat": 4,
 "nbformat_minor": 4
}