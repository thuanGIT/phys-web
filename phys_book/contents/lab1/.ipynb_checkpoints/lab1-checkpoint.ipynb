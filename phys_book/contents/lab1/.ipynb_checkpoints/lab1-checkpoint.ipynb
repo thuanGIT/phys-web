{
 "cells": [
  {
   "cell_type": "markdown",
   "metadata": {},
   "source": [
    "# Lab 1\n",
    "\n",
    "Here you can find all stuffs related to Lab 1\n",
    "___"
   ]
  },
  {
   "cell_type": "markdown",
   "metadata": {},
   "source": [
    "## Overview\n",
    "\n",
    "- For complete guide on the experiment, please read the lab manual on Canvas [here](https://canvas.ubc.ca/courses/69484/files/12331275?module_item_id=2840042).\n",
    "\n",
    "- In lab 1, you will only **do analysis with pre-recorded videos**. There are 7 videos in part 1 and 1 in part 2. So, remember 8 in total.\n",
    "\n",
    "- You have to extract information from the videos (i.e. period of motion) and conduct video analysis in LoggerPro(Part 1_4)."
   ]
  },
  {
   "cell_type": "markdown",
   "metadata": {},
   "source": [
    "## Part 1: Simple Harmonic Motion\n",
    "\n",
    "- Before we start, here is a table of some information needed to calculations.\n",
    "\n",
    "|$\\pmb{M_{weak}}$| $0.011\\pm{0.001} kg$\n",
    "|:---------------:|:----------------:|\n",
    "|$\\pmb{M_{strong}}$| $0.174\\pm{0.010} kg$\n",
    "|$\\pmb{\\delta{t_{1}}\\:or\\:\\delta{t_{2}}}$| $\\pm{0.02} s$\n",
    "\n",
    "```{note}\n",
    "Force probe is zeroed at the point of equilibrium for each case.\n",
    "```\n",
    "\n",
    "- Now, part 1.1 - 1.3, you only need to look at the 6 videos on Youtube and extract the **motion period**.\n",
    "    - Videos 1-6 are divided into 2 categories (weak and strong spring) with 3 different mass values in each -> <font color=red><b>Keep track on which spring is being used.</b></font>\n",
    "    - Now, to find the period, you need to use equation (2). \n",
    "    $ T = \\fraction{\\Delta{t}}{#oscillation}$\n",
    "    \n",
    "![](../../images/lab1/lab1_period.jpg)\n",
    "\n",
    "</br>\n",
    "\n",
    "\n",
    "\n",
    "- Part 1_4 requires importing video into LoggerPro and plot the position vs time graph of the motion. \n",
    "\n",
    "![](../../images/lab1/lab1_part1_4.jpg)"
   ]
  },
  {
   "cell_type": "markdown",
   "metadata": {},
   "source": [
    "## Part 2: Damped Simple Harmonic Motion\n",
    "\n",
    "![](../../images/lab1/lab1_damp.jpg)"
   ]
  },
  {
   "cell_type": "markdown",
   "metadata": {},
   "source": [
    "## Data Collection and Analysis"
   ]
  },
  {
   "cell_type": "markdown",
   "metadata": {},
   "source": [
    "## Discussion Questions\n",
    "\n",
    "- Question 1: It basically asks why we always start from a simple model (with so many assumptions) before paying attention to other potential errors (i.e.system error, human error)?\n",
    "- Question 2: Basically, energy transformation. Remember we are talking about **undamped spring**.\n",
    "\n",
    "```{hint}\n",
    "We study only 2 main type of energy in this motion. What are they?\n",
    "```"
   ]
  },
  {
   "cell_type": "markdown",
   "metadata": {},
   "source": [
    "```{note}\n",
    " Something\n",
    " \n",
    " Something\n",
    "```"
   ]
  },
  {
   "cell_type": "code",
   "execution_count": null,
   "metadata": {},
   "outputs": [],
   "source": []
  }
 ],
 "metadata": {
  "kernelspec": {
   "display_name": "Python 3",
   "language": "python",
   "name": "python3"
  },
  "language_info": {
   "codemirror_mode": {
    "name": "ipython",
    "version": 3
   },
   "file_extension": ".py",
   "mimetype": "text/x-python",
   "name": "python",
   "nbconvert_exporter": "python",
   "pygments_lexer": "ipython3",
   "version": "3.8.5"
  }
 },
 "nbformat": 4,
 "nbformat_minor": 4
}
