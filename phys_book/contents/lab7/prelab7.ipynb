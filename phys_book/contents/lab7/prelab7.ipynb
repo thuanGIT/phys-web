{
 "cells": [
  {
   "cell_type": "markdown",
   "metadata": {},
   "source": [
    "# Pre Lab 7\n",
    "\n",
    "Here are some help for Pre lab 7!\n",
    "___"
   ]
  },
  {
   "cell_type": "markdown",
   "metadata": {},
   "source": [
    "## Part 1: Find m\n",
    "\n",
    "- You start with the given formula relating mass and volume:\n",
    "\n",
    "$$\\rho = \\frac{m}{V}$$\n",
    "\n",
    "- Now that you have $\\rho$ (density) and $m$ (mass) in the equation, what about $V$, the volume? Let's look at the figure below:\n",
    "\n",
    "```{figure} ../../images/lab7/battery_lab7.jpeg\n",
    ":scale: 40\n",
    "```\n",
    "\n",
    "- So, do you remember how to the find the volume, given cross-section area function **(the same at all height)** and height?\n",
    "\n",
    "```{caution}\n",
    "That figure does not tell whether the cross-section is circular. So, do not assume so. Please use the generic term $A_b$ for area.\n",
    "```"
   ]
  },
  {
   "cell_type": "markdown",
   "metadata": {},
   "source": [
    "## Part 2: Find w\n",
    "````{margin}\n",
    "```{tip}\n",
    "There are not tricks here!\n",
    "```\n",
    "````\n",
    "- $w$ is the term to indicate weight/gravitational force acting on a given fluid surface in this case. \n",
    "\n",
    "- At this point, you should know how to find it!"
   ]
  },
  {
   "cell_type": "markdown",
   "metadata": {},
   "source": [
    "## Part 3: Find $\\Delta{P}$"
   ]
  },
  {
   "cell_type": "markdown",
   "metadata": {},
   "source": [
    "- Start by asking yourself what is pressure?\n",
    "\n",
    "> Pressure is the force per unit area.\n",
    "\n",
    "- If you understand, you will think about this formula involing **pressure difference**:\n",
    "\n",
    "$$\\Delta{P} = \\frac{F}{A_b}$$\n",
    "\n",
    "````{margin}\n",
    "```{tip}\n",
    "Free body diagram if you want details. Otherwise, it is whatever is available until now in pre lab.\n",
    "```\n",
    "````\n",
    "- Now, ask yourself what is $F$ in this case? In the concept of fluid, the agent that exerts a force on a fluid cross-section at a certain height is all parts of fluid above that height right?\n",
    "\n",
    "- Then, what does that force equal to? Hopefully, it is clear.\n",
    "\n",
    "```{caution}\n",
    "For all questions above, make sure to **give the equation in required terms** from the question.\n",
    "```"
   ]
  }
 ],
 "metadata": {
  "kernelspec": {
   "display_name": "Python 3",
   "language": "python",
   "name": "python3"
  },
  "language_info": {
   "codemirror_mode": {
    "name": "ipython",
    "version": 3
   },
   "file_extension": ".py",
   "mimetype": "text/x-python",
   "name": "python",
   "nbconvert_exporter": "python",
   "pygments_lexer": "ipython3",
   "version": "3.8.8"
  }
 },
 "nbformat": 4,
 "nbformat_minor": 4
}
