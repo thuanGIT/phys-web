{
 "metadata": {
  "language_info": {
   "codemirror_mode": {
    "name": "ipython",
    "version": 3
   },
   "file_extension": ".py",
   "mimetype": "text/x-python",
   "name": "python",
   "nbconvert_exporter": "python",
   "pygments_lexer": "ipython3",
   "version": 3
  },
  "orig_nbformat": 2
 },
 "nbformat": 4,
 "nbformat_minor": 2,
 "cells": [
  {
   "source": [
    "# Lab 2\n",
    "\n",
    "Here are some stuffs for lab2\n",
    "\n",
    "____"
   ],
   "cell_type": "markdown",
   "metadata": {}
  },
  {
   "source": [
    "## Coming Soon"
   ],
   "cell_type": "markdown",
   "metadata": {}
  }
 ]
}