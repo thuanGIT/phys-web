{
 "metadata": {
  "language_info": {
   "codemirror_mode": {
    "name": "ipython",
    "version": 3
   },
   "file_extension": ".py",
   "mimetype": "text/x-python",
   "name": "python",
   "nbconvert_exporter": "python",
   "pygments_lexer": "ipython3",
   "version": 3
  },
  "orig_nbformat": 2
 },
 "nbformat": 4,
 "nbformat_minor": 2,
 "cells": [
  {
   "source": [
    "# Pre Lab 5\n",
    "\n",
    "Here are some help for pre lab 5\n",
    "___"
   ],
   "cell_type": "markdown",
   "metadata": {}
  },
  {
   "source": [
    "## Part 1\n",
    "\n",
    "- Here is an equation to keep in mind for this question.\n",
    "$$E_{s} = -\\frac{dV}{ds}$$\n",
    "\n",
    "- The formula is derived as such: \n",
    "\n",
    "```{figure} ../../images/lab5/concept_lab5.jpg.\n",
    "---\n",
    "scale: 50%\n",
    "---\n",
    "\n",
    "```"
   ],
   "cell_type": "markdown",
   "metadata": {}
  },
  {
   "source": [
    "## Part 2\n"
   ],
   "cell_type": "markdown",
   "metadata": {}
  },
  {
   "source": [
    "## Part 3\n"
   ],
   "cell_type": "markdown",
   "metadata": {}
  },
  {
   "source": [
    "<a target=_blank href=https://ubc.ca1.qualtrics.com/jfe/form/SV_dbztRdUBHaxtNBA>excel-survey</a>"
   ],
   "cell_type": "markdown",
   "metadata": {}
  }
 ]
}