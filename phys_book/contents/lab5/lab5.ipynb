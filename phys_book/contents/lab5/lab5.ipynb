{
 "cells": [
  {
   "cell_type": "markdown",
   "metadata": {},
   "source": [
    "# Lab 5\n",
    "Here are some stuffs for Lab 5!\n",
    "___\n"
   ]
  },
  {
   "source": [
    "## Overview\n",
    "\n",
    "- This lab might seem a little too long but eventually it is not that bad. \n",
    "\n",
    "- You need an image editor to annotate your screenshots. E.g. Paint, Preview, PS.\n",
    "\n",
    "- We will need to plot 2 graphs from LoggerPro.\n",
    "\n",
    "- Excel work will start this week.\n",
    "\n",
    "```{attention}\n",
    "Please read the instructions in the manual on how to use the simulator!\n",
    "```"
   ],
   "cell_type": "markdown",
   "metadata": {}
  },
  {
   "source": [
    "## Part 1: The Electric Dipole\n",
    "````{margin}\n",
    "```{tip}\n",
    "Electric field lines are going from higher potential to lower potential and perpendicular to equipotential lines.\n",
    "```\n",
    "````\n",
    "- Here, you need place <mark><b>2 opposite charges</b></mark> on 2 halves of the surface (one left and one right).\n",
    "- Then, use the device with the **cross-hair** to draw the equipotential lines. How? **Click the pencil**.\n",
    "- Make sure you follow the required steps (not necessarily exact). In this case, it is $\\pm3(V)$.\n",
    "- Then, you need to draw **Electric field Lines** given the equipotential lines.\n",
    "- Here a demo for you to follow:\n",
    "\n",
    "```{figure} ../../images/lab5/part1.png\n",
    ":scale: 50\n",
    "```\n",
    "\n",
    "```{warning}\n",
    "Every image contains metadata, including author and created date. So, I would know whether you did it or copied somewhere.\n",
    "```"
   ],
   "cell_type": "markdown",
   "metadata": {}
  },
  {
   "source": [
    "## Part 2: Pair of Like Charges\n",
    "````{margin}\n",
    "```{tip}\n",
    "In case you don't see the potential you're looking for, move the device up and down from the middle.\n",
    "```\n",
    "````\n",
    "- The procedure is similar to part 1. The only difference is that you place <mark><b>2 same charges</b></mark> on 2 halves of the surface.\n",
    "- Make sure you follow the required steps (not necessarily exact). In this case, it is $\\pm1(V)$.\n",
    "- Then, draw the **Electric field lines**. Here is a demo for you:\n",
    "\n",
    "```{figure} ../../images/lab5/part2.png\n",
    ":scale: 41\n",
    "```\n",
    "```{caution}\n",
    "Here, we have 2 like-charges. So be careful with the direction of the electric field lines.\n",
    "```\n"
   ],
   "cell_type": "markdown",
   "metadata": {}
  },
  {
   "source": [
    "## Part 3: A Line of Charge\n",
    "```{tip}\n",
    "Keep track on the number of charges. Usually ~55-58 charges.\n",
    "```\n",
    "- This part requires you to assemble a **line of charges**. Make sure to<font color='red'><b>fill the entire browswer length</b></font>.\n",
    "```{seealso}\n",
    "Filling the entire length ensures that it behaves like a line of charges. Otherwise, some discrepancies might happen.\n",
    "```\n",
    "- Here is demo of the setup for you to follow:\n",
    "```{figure} ../../images/lab5/part3.png\n",
    ":scale: 50\n",
    "```\n",
    "\n",
    "### Section 1: Find the charge per unit length λ\n",
    "\n",
    "- You have the equation:\n",
    "$$\\lambda = \\frac{n * q}{L} (C/m)$$\n",
    "where n(number of charges), q(charge per point charge), L(length of line)\n",
    "\n",
    "```{tip}\n",
    "q is given in the simulator! Find it! Use nC or C.\n",
    "```\n",
    "- So, you need to keep track on how many points you put in. Also, to find the length of the line, **use the scale with the plus symbol at the tip**.\n",
    "\n",
    "\n",
    "### Section 2: Find estimated eletrical field strength Ex (V/m) at a point\n",
    "\n",
    "### Section 3: Find estimated potential Vx (V) at a point\n"
   ],
   "cell_type": "markdown",
   "metadata": {}
  },
  {
   "source": [
    "## Discussion\n",
    "\n",
    "- We do not have a discussion part for this lab. But there are few things you need to remember.\n",
    "- There are several questions asking you to describe the pattern. So, please give your best observations. It must be your own.\n",
    "\n",
    "```{tip}\n",
    "One important concepts: The closer the equipotential lines are, the stronger the eletric field in those areas.\n",
    "```"
   ],
   "cell_type": "markdown",
   "metadata": {}
  },
  {
   "source": [
    "## Excel Work\n",
    "\n",
    "- **Please keep track on the schedule. Rules must also be followed.**\n",
    "- For lab 3, [Click Here](https://docs.google.com/spreadsheets/d/1cmIqJLanpAlZ6kQmgPFBkUN9hX1Z3Y3iBFWBpIDyVzk/edit?usp=sharing).\n",
    "- For lab 12, [Click Here](https://docs.google.com/spreadsheets/d/1nIeibzET3l4k8WNUURpX4TXzFUnij_JojNM6cykBM6o/edit?usp=sharing)."
   ],
   "cell_type": "markdown",
   "metadata": {}
  },
  {
   "source": [
    "## Recordings\n",
    "Coming Soon!"
   ],
   "cell_type": "markdown",
   "metadata": {}
  }
 ],
 "metadata": {
  "kernelspec": {
   "display_name": "Python 3",
   "language": "python",
   "name": "python3"
  },
  "language_info": {
   "codemirror_mode": {
    "name": "ipython",
    "version": 3
   },
   "file_extension": ".py",
   "mimetype": "text/x-python",
   "name": "python",
   "nbconvert_exporter": "python",
   "pygments_lexer": "ipython3",
   "version": "3.8.5"
  }
 },
 "nbformat": 4,
 "nbformat_minor": 4
}