{
 "cells": [
  {
   "cell_type": "markdown",
   "metadata": {},
   "source": [
    "# Lab 5\n",
    "Here are some stuffs for Lab 5!\n",
    "___\n"
   ]
  },
  {
   "cell_type": "markdown",
   "metadata": {},
   "source": [
    "## Overview\n",
    "\n",
    "- This lab might seem a little too long but eventually it is not that bad. \n",
    "\n",
    "- You need an image editor to annotate your screenshots. E.g. Paint, Preview, PS.\n",
    "\n",
    "- We will need to plot 2 graphs from LoggerPro.\n",
    "\n",
    "- Excel work will start this week.\n",
    "\n",
    "```{attention}\n",
    "Please read the instructions in the manual on how to use the simulator!\n",
    "```"
   ]
  },
  {
   "cell_type": "markdown",
   "metadata": {},
   "source": [
    "## Part 1: The Electric Dipole\n",
    "````{margin}\n",
    "```{tip}\n",
    "Electric field lines are going from higher potential to lower potential and perpendicular to equipotential lines.\n",
    "```\n",
    "````\n",
    "- Here, you need place <mark><b>2 opposite charges</b></mark> on 2 halves of the surface (one left and one right).\n",
    "- Then, use the device with the **cross-hair** to draw the equipotential lines. How? **Click the pencil**.\n",
    "- Make sure you follow the required steps (not necessarily exact). In this case, it is $\\pm3(V)$.\n",
    "- Then, you need to draw **Electric field Lines** given the equipotential lines.\n",
    "- Here a demo for you to follow:\n",
    "\n",
    "```{figure} ../../images/lab5/part1.png\n",
    ":scale: 50\n",
    "```\n",
    "\n",
    "```{warning}\n",
    "Every image contains metadata, including author and created date. So, I would know whether you did it or copied somewhere.\n",
    "```"
   ]
  },
  {
   "cell_type": "markdown",
   "metadata": {},
   "source": [
    "## Part 2: Pair of Like Charges\n",
    "````{margin}\n",
    "```{tip}\n",
    "In case you don't see the potential you're looking for, move the device up and down from the middle.\n",
    "```\n",
    "````\n",
    "- The procedure is similar to part 1. The only difference is that you place <mark><b>2 same charges</b></mark> on 2 halves of the surface.\n",
    "- Make sure you follow the required steps (not necessarily exact). In this case, it is $\\pm1(V)$.\n",
    "- Then, draw the **Electric field lines**. Here is a demo for you:\n",
    "\n",
    "```{figure} ../../images/lab5/part2.png\n",
    ":scale: 41\n",
    "```\n",
    "```{caution}\n",
    "Here, we have 2 like-charges. So be careful with the direction of the electric field lines.\n",
    "```\n"
   ]
  },
  {
   "cell_type": "markdown",
   "metadata": {},
   "source": [
    "## Part 3: A Line of Charge\n",
    "````{margin}\n",
    "```{tip}\n",
    "Keep track on the number of charges. Usually ~55-58 charges.\n",
    "```\n",
    "````\n",
    "- This part requires you to assemble a **line of charges**. Make sure to <font color='red'><b>fill the entire browswer length</b></font>.\n",
    "- Then, **section 2 requires readings from cross-haired device** and **section 3 requries a sensor**.\n",
    "\n",
    "```{seealso}\n",
    "Filling the entire length ensures that it behaves like a line of charges. Otherwise, some discrepancies might happen.\n",
    "```\n",
    "\n",
    "- Here is demo of the setup for you to follow:\n",
    "\n",
    "```{figure} ../../images/lab5/part3.png\n",
    ":scale: 40\n",
    "```\n",
    "### Section 1: Find the charge per unit length λ\n",
    "\n",
    "- You have the equation:\n",
    "\n",
    "$$\\lambda = \\frac{n * q}{L} (C/m)$$\n",
    "\n",
    "where:\n",
    "- n (number of charges). \n",
    "- q (charge per point)\n",
    "- L (length of line).\n",
    "\n",
    "```{tip}\n",
    "q is given in the simulator! Find it! Use nC or C.\n",
    "```\n",
    "- So, you need to keep track on how many points you put in. Also, to find the length of the line, **use the scale with the plus symbol at the tip**.\n",
    "\n",
    "\n",
    "### Section 2: Find estimated eletrical field strength Ex (V/m) at a point\n",
    "\n",
    "- Remember: We <font color='red'><b>analyze at the middle of the line</b></font>.\n",
    "- What you need to collect data is simple:\n",
    "    - Step 1: Using the **scale** to find the distance x from the **line midpoint**. Starting from **0.1m** with step of **0.1m**.\n",
    "    - Step 2: Use the crossed-hair device to read the potential Vx at that point.\n",
    "    - Step 3: Record distance x and Vx in Logger Pro.\n",
    "    - Step 4: Repeat until your you gather at least 12 points.\n",
    "```{caution}\n",
    "Tagent tool is interactive, so it only show the currently selected point.\n",
    "``` \n",
    "\n",
    "- After data collection, you need to:\n",
    "    - Step 1: Use **tagent tool** to find slope at all points!\n",
    "    - Step 2: **Choose a point** (Example: x = 0.605m). \n",
    "    - Step 3: Go back to your simulator and place a **sensor** at that distance from midpoint.\n",
    "    - Step 4: Read the value of Ex from the sensor and compare it to the slope.\n",
    "    \n",
    "```{caution}\n",
    "Reading from sensor gave absolute values of Ex.\n",
    "``` \n",
    "\n",
    "- Here is a demo for Part 3 section 3:"
   ]
  },
  {
   "cell_type": "code",
   "execution_count": 41,
   "metadata": {
    "tags": [
     "hide-input"
    ]
   },
   "outputs": [
    {
     "data": {
      "image/png": "[encoded data removed]",
      "text/plain": [
       "<Figure size 432x288 with 1 Axes>"
      ]
     },
     "metadata": {},
     "output_type": "display_data"
    }
   ],
   "source": [
    "import pandas as pd\n",
    "import seaborn as sns\n",
    "import numpy as np\n",
    "import matplotlib.pyplot as plt\n",
    "\n",
    "# Loading dada\n",
    "part3_2 = (pd.read_csv(\"part3_2.csv\", delimiter=\",\", dtype=float)\n",
    "             .rename(columns={\"x(m)\":\"x\", \"Vx(V)\":\"Vx\"})\n",
    "          )\n",
    "part3_3 = (pd.read_csv(\"part3_3.csv\", delimiter=\",\", dtype=float)\n",
    "             .rename(columns={\"1/x(1/m)\":\"1/x\", \"Ex(V/m)\":\"Ex\"})\n",
    "          )\n",
    "# Settings\n",
    "# Set seaborn themes\n",
    "sns.set_theme(context='notebook',style='darkgrid', font_scale=1.4)\n",
    "# sns.despine(left=True, bottom=True)\n",
    "sns.set_palette(\"husl\", 5)\n",
    "\n",
    "\n",
    "# Plotting\n",
    "plot = (sns.scatterplot(x=\"x\", y=\"Vx\",data=part3_2, size=1880, legend = False,linewidths=0.7, edgecolor='w')\n",
    ")\n",
    "# Add title to only this subgraph\n",
    "plot.set_title(r\"$V_x\\ vs\\ x$\", fontdict={'fontsize':18, 'fontweight':\"bold\", 'va':\"baseline\"})\n",
    "plot.set_ylabel(r\"$V_x (V)$\")\n",
    "plot.set_xlabel(r\"$x (m)$\")\n",
    "\n",
    "# Choose a x \n",
    "x = part3_2[\"x\"][3] # Let's choose the third point\n",
    "y = part3_2[\"Vx\"][3]\n",
    "upper = (part3_2[\"x\"][2], part3_2[\"Vx\"][2])\n",
    "lower = (part3_2[\"x\"][4], part3_2[\"Vx\"][4])\n",
    "\n",
    "# Define x data range for tangent line\n",
    "xrange = np.linspace(x-0.08, x+0.08, 10)\n",
    "\n",
    "def line(x,y, x_range, lower_neighbor, upper_neighbor,):\n",
    "    slope = (-upper_neighbor[1] + lower_neighbor[1])/ (-upper_neighbor[0] + lower_neighbor[0])\n",
    "    return -slope*(x - x_range) + y\n",
    "\n",
    "# Plot the tagent line\n",
    "plt.plot(xrange, line(x, y, xrange, upper, lower), 'c--', linewidth = 2)\n",
    "plt.show()"
   ]
  },
  {
   "cell_type": "markdown",
   "metadata": {},
   "source": [
    "### Section 3: Find estimated potential Vx (V) at a point\n",
    "\n",
    "- As you do section 2, you can also do section! Remember: We <font color='red'><b>analyze at the middle of the line</b></font>.\n",
    "- Repeat the same steps of data collection but you instead **use sensors** to read Vx and record x for calculating 1/x.\n",
    "- Once you are done, you need:\n",
    "    - Step 1: Enter data into Logger Pro. Remember to use Ex and 1/x.\n",
    "    - Step 2: Use linear fit tool.\n",
    "    - Step 3: Extract the slope. Slope = Vx\n",
    "    - Step 4: Show uncertainties\n",
    "- Now, compare the slope to your calculate Vx by extracting constant from this formula:\n",
    "\n",
    "$$E = \\frac{\\lambda}{2 * \\pi * \\varepsilon_0 * r}$$\n",
    "\n",
    "\n",
    "```{tip}\n",
    "What does y axis represent and what does x axis represent? Also, $\\lambda$ is found in section 1.\n",
    "```\n",
    "\n",
    "- Here is a demo for part 3 section 3:"
   ]
  },
  {
   "cell_type": "code",
   "execution_count": 42,
   "metadata": {
    "tags": [
     "hide-input"
    ]
   },
   "outputs": [
    {
     "data": {
      "image/png": "[encoded data removed]",
      "text/plain": [
       "<Figure size 360x360 with 1 Axes>"
      ]
     },
     "metadata": {},
     "output_type": "display_data"
    }
   ],
   "source": [
    "plot2 = (sns.lmplot(x=\"1/x\", y=\"Ex\",data=part3_3, scatter_kws={'s':80, 'linewidth':0.7, 'edgecolor':'w'})\n",
    "    .set_axis_labels(r\"1/x (1/m)\",r\"$E_x$ (V/m)\")\n",
    ")\n",
    "# Add title to entire figure since we have only 1 plot\n",
    "plot2.fig.suptitle(r\"$E_x\\ vs\\ 1/x$\", fontsize=14, fontweight=\"bold\", va=\"baseline\") \n",
    "plt.show()"
   ]
  },
  {
   "cell_type": "markdown",
   "metadata": {},
   "source": [
    "```{caution}\n",
    "These graphs are not the actual graph you need to submit! Please use Logger Pro!\n",
    "```"
   ]
  },
  {
   "cell_type": "markdown",
   "metadata": {},
   "source": [
    "## Discussion\n",
    "\n",
    "- We do not have a discussion part for this lab. But there are few things you need to remember.\n",
    "- There are several questions asking you to describe the pattern. So, please give your best observations. It must be your own.\n",
    "\n",
    "```{tip}\n",
    "One important concepts: The closer the equipotential lines are, the stronger the eletric field in those areas.\n",
    "```"
   ]
  },
  {
   "cell_type": "markdown",
   "metadata": {},
   "source": [
    "## Excel Work\n",
    "\n",
    "- **Please keep track on the schedule. Rules must also be followed.**\n",
    "- For lab 3, [Click Here](https://docs.google.com/spreadsheets/d/1cmIqJLanpAlZ6kQmgPFBkUN9hX1Z3Y3iBFWBpIDyVzk/edit?usp=sharing).\n",
    "- For lab 12, [Click Here](https://docs.google.com/spreadsheets/d/1nIeibzET3l4k8WNUURpX4TXzFUnij_JojNM6cykBM6o/edit?usp=sharing)."
   ]
  },
  {
   "cell_type": "markdown",
   "metadata": {},
   "source": [
    "## Recordings\n",
    "Coming Soon!"
   ]
  }
 ],
 "metadata": {
  "kernelspec": {
   "display_name": "Python 3",
   "language": "python",
   "name": "python3"
  },
  "language_info": {
   "codemirror_mode": {
    "name": "ipython",
    "version": 3
   },
   "file_extension": ".py",
   "mimetype": "text/x-python",
   "name": "python",
   "nbconvert_exporter": "python",
   "pygments_lexer": "ipython3",
   "version": "3.8.8"
  }
 },
 "nbformat": 4,
 "nbformat_minor": 4
}