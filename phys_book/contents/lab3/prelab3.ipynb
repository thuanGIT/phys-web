{
 "metadata": {
  "language_info": {
   "codemirror_mode": {
    "name": "ipython",
    "version": 3
   },
   "file_extension": ".py",
   "mimetype": "text/x-python",
   "name": "python",
   "nbconvert_exporter": "python",
   "pygments_lexer": "ipython3",
   "version": 3
  },
  "orig_nbformat": 2
 },
 "nbformat": 4,
 "nbformat_minor": 2,
 "cells": [
  {
   "source": [
    "# Pre Lab 3\n",
    "\n",
    "\n",
    "\n"
   ],
   "cell_type": "markdown",
   "metadata": {}
  },
  {
   "cell_type": "code",
   "execution_count": null,
   "metadata": {},
   "outputs": [],
   "source": [
    "## Set up to displat the imgage\n",
    "from my-mst import glue\n",
    "from PIL import Image"
   ]
  },
  {
   "source": [
    "## Part 1\n",
    "\n",
    "Now, I want you to answer this questions: <mark>Are the ends of a vibrating rod considered nodes or antinodes?</mark>\n",
    "\n",
    "```{tip}\n",
    "Are there fixed boundaries?\n",
    "```"
   ],
   "cell_type": "markdown",
   "metadata": {}
  },
  {
   "source": [
    "## Part 2\n",
    "\n",
    "Two longest wavelength that can fit in this rod is equivalent to <font color='red'><b>"
   ],
   "cell_type": "markdown",
   "metadata": {}
  }
 ]
}