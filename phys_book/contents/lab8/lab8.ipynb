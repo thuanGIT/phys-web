{
 "metadata": {
  "language_info": {
   "codemirror_mode": {
    "name": "ipython",
    "version": 3
   },
   "file_extension": ".py",
   "mimetype": "text/x-python",
   "name": "python",
   "nbconvert_exporter": "python",
   "pygments_lexer": "ipython3",
   "version": 3
  },
  "orig_nbformat": 2
 },
 "nbformat": 4,
 "nbformat_minor": 2,
 "cells": [
  {
   "source": [
    "# Lab 8\n",
    "\n",
    "Here are some stuffs for lab 8!\n",
    "___"
   ],
   "cell_type": "markdown",
   "metadata": {}
  },
  {
   "source": [
    "## Part 1"
   ],
   "cell_type": "markdown",
   "metadata": {}
  },
  {
   "source": [
    "## Part 2"
   ],
   "cell_type": "markdown",
   "metadata": {}
  },
  {
   "source": [
    "## Part 3"
   ],
   "cell_type": "markdown",
   "metadata": {}
  },
  {
   "source": [
    "## Part 4"
   ],
   "cell_type": "markdown",
   "metadata": {}
  },
  {
   "source": [
    "## Discussion\n",
    "\n",
    "- Notice there are 2 last conceptual questions that you need to infer from observations.\n",
    "\n",
    "- **Galvanometer's readings sign**: <mark>Find direction of induced current</mark>\n",
    "    - Current goes into <font color=\"red\"><b>+ terminal</b></font> <=> readings are positive\n",
    "    - Current goes into <font color=\"teal\"><b>- terminal</b></font>. <=> readings are negative\n",
    "````{margin}\n",
    "```{tip}\n",
    "$\\frac{d\\phi_m}{dt}$ is the change in flux over a surface area.\n",
    "```\n",
    "````\n",
    "- **Brightness of light bulb**: <mark>Try a higher speed in the simulator</mark>\n",
    "\n",
    "    - Intensity/Brightness is the power per unit area. Now, assumed we look at the bulb at a **fixed distance**.\n",
    "    - Power in electric circuit model: $P = \\frac{\\epsilon^2}{R^2}$\n",
    "    - $\\epsilon$ is the induced potential difference, which has a formula $\\epsilon = |\\frac{d\\phi_m}{dt}|$. \n",
    "    "
   ],
   "cell_type": "markdown",
   "metadata": {}
  },
  {
   "source": [
    "## Recordings\n",
    "\n",
    "Coming Soon!"
   ],
   "cell_type": "markdown",
   "metadata": {}
  }
 ]
}