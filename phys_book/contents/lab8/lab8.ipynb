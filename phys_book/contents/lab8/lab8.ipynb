{
 "cells": [
  {
   "cell_type": "markdown",
   "metadata": {},
   "source": [
    "# Lab 8\n",
    "\n",
    "Here are some stuffs for lab 8!\n",
    "___"
   ]
  },
  {
   "cell_type": "markdown",
   "metadata": {},
   "source": [
    "## Overview\n",
    "\n",
    "- This lab is one of the shortest one (besides lab 6) so far.\n",
    "- Knowledge in magnetic field model is required.\n",
    "- Right Hand Rules are applied in most questions.\n",
    "\n",
    "```{warning}\n",
    "Due date is 3 days after lab days!\n",
    "```"
   ]
  },
  {
   "cell_type": "markdown",
   "metadata": {},
   "source": [
    "## Concepts of Right Hand Rules\n",
    "\n",
    "````{tabbed} Current carrying wire\n",
    "<p style=\"font-size:25px\"><b>Explanation</b></p>\n",
    "\n",
    "Thumb points in the direction of the current and the fingers curl around the wire in the direction of the magnetic field.\n",
    "\n",
    "```{figure} ../../images/lab8/rhr_current_lab8.png\n",
    ":scale: 50\n",
    "Right-hand rule for current carrying wire\n",
    "```\n",
    "````\n",
    "\n",
    "````{tabbed} Current carrying solenoid\n",
    "<p style=\"font-size:25px\"><b>Explanation</b></p>\n",
    "\n",
    "Fingers curl in the direction of the current through the solenoid and the thum  b points in the direction of the magnetic field.\n",
    "```{figure} ../../images/lab8/rhr_solenoid_lab8.png\n",
    ":scale: 50\n",
    "Right-hand rule for current carrying solenoid\n",
    "```\n",
    "````\n",
    "\n",
    "````{tabbed} Moving charge a magnetic field\n",
    "<p style=\"font-size:25px\"><b>Explanation</b></p>\n",
    "\n",
    "Force on a moving positive charge in a magnetic field:\n",
    "Thumb points in the direction of the velocity (electrons are negatively charged and therefore point in the opposite direction), fingers point in the direction of the magnetic field and the palm faces the direction of the force on the charge. Other sources suggest to bend the middle finger inwards so that it points along the direction of the force vector. An alternate version can be read in lab manual.\n",
    "```{figure} ../../images/lab8/rhr_movcharge_lab8.png\n",
    ":scale: 50\n",
    "Right-hand rule for moving charge in magnetic field.\n",
    "```\n",
    "````"
   ]
  },
  {
   "cell_type": "markdown",
   "metadata": {},
   "source": [
    "## Part 1: Magnetic Field of a Solenoid\n",
    "\n",
    "- Before we go any further, lets look at the setup for this experiment:\n",
    "```{figure} ../../images/lab8/part1_setup_lab8.png\n",
    ":scale: 35\n",
    "Part 1 set up\n",
    "```\n",
    "- Here, you are required to perform only 1 calculation with given the data below:\n",
    "\n",
    "|Data                   |Value            |\n",
    "|:---------------------:|:---------------:|\n",
    "|Magnetic Field Strength|$0.26\\pm0.03$(mT)|\n",
    "|Induced Current        |$53.8\\pm0.3$(mA) |\n",
    "\n",
    "- The question is: What is the **number of turns of wire per meter in the solenoid**? Which formula will you use?\n",
    "- Error calculation is required, so make sure you do it.\n",
    "\n",
    "```{caution}\n",
    "Convert data into approriate units. Why? Check the units of your $\\mu_0$.\n",
    "```"
   ]
  },
  {
   "cell_type": "markdown",
   "metadata": {},
   "source": [
    "## Part 2: Force on a Moving Charge in a Magnetic Field\n",
    "\n",
    "- Let's consider 3 cases as in the manual.\n",
    "- Recall magnetic force is exerted only moving charged objects in the magnetic field.\n",
    "\n",
    "````{tabbed} North Pole\n",
    "```{figure} ../../images/lab8/part2_n_lab8.png\n",
    ":scale: 50\n",
    "Set up for case 1 part 2\n",
    "```\n",
    "````\n",
    "\n",
    "````{tabbed} Magnet Midpoint\n",
    "```{figure} ../../images/lab8/part2_mid_lab8.png\n",
    ":scale: 50\n",
    "Set up for case 2 part 2\n",
    "```\n",
    "````\n",
    "\n",
    "````{tabbed} Two solenoids\n",
    "```{figure} ../../images/lab8/part2_sol_lab8.png\n",
    ":scale: 50\n",
    "Set up for case 3 part 2\n",
    "```\n",
    "````\n",
    "```{seealso}\n",
    "The electron beam is shot out of the page. That also means these electrons are moving. Bringing a magnet near the beam creats a magnetic field around this beam.\n",
    "```\n",
    "\n",
    "- Task for each case includes:\n",
    "    - **Step 0**: Only for case 3 (solenoid), use the solenoid version of right-hand rule to find magnetic field direction at the center of each solenoid.\n",
    "    - **Step 1**: Use Right-hand rules for moving charges to identify the direction of the magnetic force on the electron beam.\n",
    "    - **Step 2**: Describe how you would use Right-hand rules (detailed explanation of step 1).\n",
    "    - **Step 3**: Draw the magnetic field created by the magnet. For solenoid, draw the magnetic field at its center.\n",
    "    - **Step 4**: Draw the force direction on the picture (visualize your finding)."
   ]
  },
  {
   "cell_type": "markdown",
   "metadata": {},
   "source": [
    "## Part 3: Induced Voltages\n",
    "\n",
    "- This parts consists of 2 sub-parts (sections).\n",
    "- The second one involves working with oPhysics simulator (link in manual).\n",
    "\n",
    "### Section 1: Lenz's Law\n",
    "\n",
    "- Restate the Lenz's Law **(relating flux)** that you have learned in lecture.\n",
    "- You can be brief but include all essential information.\n",
    "```{note}\n",
    "If you like more details, why not? Time to revise!\n",
    "```\n",
    "### Section 2: Experiment with oPhysiscs simulator\n",
    "\n",
    "- Either manually drag the magnet or automate the motion sinusoidally.\n",
    "- There are two cases:\n",
    "    - <font color=\"teal\"><b>Magnet moving inside the solenoid.</b></font>\n",
    "    - <font color=\"red\"><b>Magnet moving out of the solenoid.</b></font>\n",
    "    \n",
    "- For each case, do the following task:\n",
    "    - **Step 1**: Follow each case to set the magnet moving accordingly.\n",
    "    - **Step 2**: Record the direction of the current <font color=\"red\"><b>(Red arrow >)</b></font>. Picture in report sheet is similar to simulator setup.\n",
    "    - **Step 3**: Use the current direction to figure out sign of the galvanometer's readings.\n",
    "\n",
    "```{tip}\n",
    "If you are confused in how to transfer current direction from simulator to report sheet, use right-hand rule to get your result.\n",
    "```"
   ]
  },
  {
   "cell_type": "markdown",
   "metadata": {},
   "source": [
    "## Part 4: Explore\n",
    "\n",
    "- You can have fun with another online simulator. In this case, it is a loop rotating in a magentic filed created by 2 magnets.\n",
    "- There are **no questions** about this part. So, just have fun!\n",
    "```{note}\n",
    "oPhysics is one of the most popular  websites with amazing simulators. For anyone in physics-related major, I would reccommend taking time playing with it!\n",
    "```"
   ]
  },
  {
   "cell_type": "markdown",
   "metadata": {},
   "source": [
    "## Discussion\n",
    "\n",
    "- Notice there are 2 last conceptual questions that you need to infer from observations.\n",
    "\n",
    "- **Galvanometer's readings sign**: <mark>Find direction of induced current</mark>\n",
    "    - Current goes into <font color=\"red\"><b>+ terminal</b></font> <=> readings are positive\n",
    "    - Current goes into <font color=\"teal\"><b>- terminal</b></font>. <=> readings are negative\n",
    "\n",
    "- **Brightness of light bulb**: <mark>Try a higher speed in the simulator</mark>\n",
    "\n",
    "    - Intensity/Brightness is the power per unit area. Now, assumed we look at the bulb at a **fixed distance**.\n",
    "    - Power in electric circuit model: $P = \\frac{\\epsilon^2}{R}$\n",
    "    - $\\epsilon$ is the induced potential difference, which has a formula $\\epsilon = |\\frac{d\\phi_m}{dt}|$. \n",
    "\n",
    "```{tip}\n",
    "$\\frac{d\\phi_m}{dt}$ is the change in flux over a surface area.\n",
    "```"
   ]
  },
  {
   "cell_type": "markdown",
   "metadata": {},
   "source": [
    "## Recordings\n",
    "\n",
    "[Click Here](https://ubc.zoom.us/rec/share/t67Ii7RDiSgvk8f3EZD9BFzJogo1RZ34-ZFue6I3sS8dg864bKblgZ5tJRbhaOct.7tgjQnrjOkHozW0a)"
   ]
  }
 ],
 "metadata": {
  "kernelspec": {
   "display_name": "Python 3",
   "language": "python",
   "name": "python3"
  },
  "language_info": {
   "codemirror_mode": {
    "name": "ipython",
    "version": 3
   },
   "file_extension": ".py",
   "mimetype": "text/x-python",
   "name": "python",
   "nbconvert_exporter": "python",
   "pygments_lexer": "ipython3",
   "version": "3.8.8"
  }
 },
 "nbformat": 4,
 "nbformat_minor": 4
}