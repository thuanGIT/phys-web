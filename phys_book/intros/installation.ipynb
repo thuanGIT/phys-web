{
 "cells": [
  {
   "cell_type": "markdown",
   "metadata": {},
   "source": [
    "# Installation Guide"
   ]
  },
  {
   "cell_type": "markdown",
   "metadata": {},
   "source": [
    "In Physiscs labs, we will use *Logger Pro* for video processing and data analysis. So, please make sure you have the required software. You can follow the instructions below.\n",
    "\n",
    "---"
   ]
  },
  {
   "cell_type": "markdown",
   "metadata": {},
   "source": [
    "## Installation Link\n",
    "\n",
    "You can the isntallation links to all supported OS below.\n",
    "\n",
    "| Windows                                                 | MacOS                                                           |\n",
    "|---------------------------------------------------------|-----------------------------------------------------------------|\n",
    "| [Window 10](http://www.vernier.com/d/r7sek)             | [MacOS 10.15, 10.14, 10.13](http://www.vernier.com/d/2d9wf)     |\n",
    "| [Windows 8.1, 7](https://www.vernier.com/d/otayn)       | [Mac OS X 10.12, 10.11, 10.10](https://www.vernier.com/d/bstnw) |\n",
    "| [Windows 8](https://www.vernier.com/d/rcsq5)            | [Mac OS X 10.9](https://www.vernier.com/d/oewti)                |\n",
    "| [Windows XP and Vista](https://www.vernier.com/d/7tjc0) | [Mac OS X 10.8](https://www.vernier.com/d/pdwat)                |\n",
    "|                                                       | [Mac OS X 10.7](https://www.vernier.com/d/dpen3)                |\n",
    "\n",
    "If your computer is running on an older version of the above OS, you will need a password so please visit[Canvas](https://canvas.ubc.ca/courses/69484/pages/logger-pro-installation) to get them.\n",
    "\n",
    "\n",
    "```{note} Linux User\n",
    "If you are using Linux, please let me know as soon as possible. Logger Pro does not support Linux system yet. Sad...\n",
    "\n",
    "```"
   ]
  },
  {
   "cell_type": "markdown",
   "metadata": {},
   "source": [
    "## Complete Guide\n",
    "\n",
    "For complete instructions (step by step), please follow the official guide on [Venier Website](https://www.vernier.com/til/2069/)."
   ]
  },
  {
   "cell_type": "markdown",
   "metadata": {},
   "source": [
    "## Sample Look\n",
    "\n",
    "If you install Logger Pro successfully, you should see a similar window to this one.\n",
    "\n",
    "![](../images/loggerpro.jpg)"
   ]
  },
  {
   "cell_type": "markdown",
   "metadata": {},
   "source": [
    "```{caution}\n",
    "Please note the UI might be different from various Operation Systems.\n",
    "```"
   ]
  },
  {
   "cell_type": "code",
   "execution_count": null,
   "metadata": {},
   "outputs": [],
   "source": []
  }
 ],
 "metadata": {
  "kernelspec": {
   "display_name": "Python 3",
   "language": "python",
   "name": "python3"
  },
  "language_info": {
   "codemirror_mode": {
    "name": "ipython",
    "version": 3
   },
   "file_extension": ".py",
   "mimetype": "text/x-python",
   "name": "python",
   "nbconvert_exporter": "python",
   "pygments_lexer": "ipython3",
   "version": "3.8.5"
  }
 },
 "nbformat": 4,
 "nbformat_minor": 4
}
