{
 "cells": [
  {
   "cell_type": "markdown",
   "metadata": {},
   "source": [
    "![something](../images/banner.png)"
   ]
  },
  {
   "cell_type": "markdown",
   "metadata": {},
   "source": [
    "# Lab Syllabus\n",
    "\n",
    "This is a short and simplifed version of the official syllabus (created by Jamie). [Here](https://canvas.ubc.ca/courses/69484/files/12348479?module_item_id=2844555) is the link the official one.\n",
    "\n",
    "***"
   ]
  },
  {
   "cell_type": "markdown",
   "metadata": {},
   "source": [
    "## Contact\n",
    "\n",
    "- Lab Manager: **Hiro Nakahara**\n",
    "- Lab Technician: **Jordan Andrews**\n",
    "- Email: physics.labs@ubc.ca\n",
    "\n",
    "\n",
    "```{tip}\n",
    "I would suggest noting down the email! If you ever need an extesion or miss a lab, you must contact them.\n",
    "\n",
    "```"
   ]
  },
  {
   "cell_type": "markdown",
   "metadata": {},
   "source": [
    "## Grading Schemes\n",
    "\n",
    "\n",
    "- 16%&ensp;&emsp; Pre-lab Assignments<br>\n",
    "- 80%&ensp;&emsp;Weekly Reports<br>\n",
    "- <font color=red>4%&emsp;&emsp;Attendance</font> \n",
    "\n",
    "```{caution} Please read\n",
    "It is different from term 1. Now, attendance is mandatory. Don't worry! I will figure something out for us soon!\n",
    "\n",
    "```"
   ]
  },
  {
   "cell_type": "markdown",
   "metadata": {},
   "source": [
    "## Pre-lab Assignments\n",
    "\n",
    "- Either a canvas quiz or a written assignment in the lab manual (usually first page).\n",
    "\n",
    "- Prelab must be submitted **by 11:59 PM the night before your next scheduled lab**.\n",
    "\n",
    "## Weekly Reports\n",
    "\n",
    "- Report must be submitted **by 11:59PM the night befor eyour next scheduled lab through Canvas**. So you have **one week** to do it!\n",
    "\n",
    "- Submitted work must be in **one combined pdf file**. Please don't send zip files or HEIC files. I can't open them on Canvas, sorry.\n"
   ]
  },
  {
   "cell_type": "markdown",
   "metadata": {},
   "source": [
    "## Missing a Lab\n",
    "\n",
    "- ny labs that were missed cannot be taken late. However, these circumstances are acceptable:\n",
    "    - Medical reason with valid medical document **(original copies)**.\n",
    "    - Other very special cases.\n",
    "\n",
    "Please email lab manager or me **at least 3 days** in advanced \n",
    "\n",
    "## Late Labs / Extensions\n",
    "\n",
    "- All assignments (pre-labs and weekly report sheets) have to be submitted by the due dates.  \n",
    "- The penalty will be a 25% deduction for each calendar day late.\n",
    "\n",
    "```{note}\n",
    "If you are having issues that prevent you from writing your lab report, please email the lab manager or me as soon as possible. Maximum 3 extensions are given.\n",
    "```\n",
    "\n",
    "## Academic Integrity\n",
    "\n",
    "The academic enterprise is founded on honesty, civility, and integrity.  As members of this enter-prise, all students are expected to know, understand, and follow the codes of conduct regarding academic integrity.  At the most basic level, this means submitting only original work doneby you and acknowledging all sources of information or ideas and attributing themto others as required.  This also means you should not cheat,  copy,  or mislead others about what is your work.  You are encouraged to take measurements and discuss the experiments with your lab partners.  However, you must do and submit your own work.  Express ideas using your own words and mathematical expressions.  Violations of academic integrity (i.e., misconduct) leadto the break down of the academic enterprise, and therefore serious consequences arise and harsh sanctions are imposed.  \n"
   ]
  },
  {
   "cell_type": "markdown",
   "metadata": {},
   "source": [
    "\n",
    "```{warning} \n",
    "Just don't cheat please! I trust you all!\n",
    "\n",
    "```"
   ]
  },
  {
   "cell_type": "markdown",
   "metadata": {},
   "source": [
    "## Disability Services\n",
    "\n",
    "UBC Okanagan is committed to providing access for students with disabilities while maintainingacademic standards. More information regarding disability services may be found at [http://students.ok.ubc.ca/drc/welcome.html](http://students.ok.ubc.ca/drc/welcome.html)"
   ]
  }
 ],
 "metadata": {
  "kernelspec": {
   "display_name": "Python 3",
   "language": "python",
   "name": "python3"
  },
  "language_info": {
   "codemirror_mode": {
    "name": "ipython",
    "version": 3
   },
   "file_extension": ".py",
   "mimetype": "text/x-python",
   "name": "python",
   "nbconvert_exporter": "python",
   "pygments_lexer": "ipython3",
   "version": "3.8.5"
  }
 },
 "nbformat": 4,
 "nbformat_minor": 4
}